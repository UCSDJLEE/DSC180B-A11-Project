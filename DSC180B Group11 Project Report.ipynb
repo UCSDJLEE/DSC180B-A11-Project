{
 "cells": [
  {
   "cell_type": "markdown",
   "id": "1724755c",
   "metadata": {},
   "source": [
    "## DSC180B Group11 Project Report\n",
    "\n",
    " #### This notebook serves to demonstrate different visual plots for exploratory data analysis(EDA) and dataset validation"
   ]
  },
  {
   "cell_type": "code",
   "execution_count": 1,
   "id": "b7a5c869",
   "metadata": {},
   "outputs": [],
   "source": [
    "# Necessary imports\n",
    "\n",
    "import os\n",
    "import sys\n",
    "import pandas as pd\n",
    "import numpy as np\n",
    "import seaborn as sns\n",
    "from pprint import pprint\n",
    "\n",
    "sys.path.insert(0, 'src')\n",
    "from load_data import path_generator, load_jet_features, load_num_sv\n",
    "from mass_distribution import mass_distribution\n",
    "from sv_mass_distribution import sv_mass_distribution\n",
    "\n",
    "%matplotlib inline"
   ]
  },
  {
   "cell_type": "code",
   "execution_count": 2,
   "id": "43bb47b6",
   "metadata": {},
   "outputs": [],
   "source": [
    "%load_ext autoreload\n",
    "%autoreload 2"
   ]
  },
  {
   "cell_type": "markdown",
   "id": "41aa34ac",
   "metadata": {},
   "source": [
    "----"
   ]
  },
  {
   "cell_type": "markdown",
   "id": "658b0290",
   "metadata": {},
   "source": [
    "### Generate sample jet data \n",
    "\n",
    "For performing EDA, we will utilize just certain number of QCD and Signal jets for memory and runtime optimization. Source of these files are located either in `train_mass_qcd` for QCD jets or `train_mass_hbb` for Signal jets. Those directories are then separated into numbers of subdirectories. On average, the size of `.root` files for QCD data is far smaller than those for Signal data; this is possibly due to QCD data existing in smaller partitioned files than Signal data. According to our calculation, approximately $55$ `.root` files of QCD jets are as big as $8$ `.root` files of Signal jets in terms of file(byte) size. Hence by default, `path_generator()` generates $55$ random QCD `.root` files and $8$ random Signal `.root` files."
   ]
  },
  {
   "cell_type": "code",
   "execution_count": 3,
   "id": "5654baf1",
   "metadata": {},
   "outputs": [
    {
     "name": "stdout",
     "output_type": "stream",
     "text": [
      "Loaded 55 QCD files and 8 Signal files\n"
     ]
    }
   ],
   "source": [
    "qcd_eda_sets = path_generator('qcd', eda=True)\n",
    "signal_eda_sets = path_generator('signal', eda=True)\n",
    "\n",
    "print(f'Loaded {len(qcd_eda_sets)} QCD files and \\\n",
    "{len(signal_eda_sets)} Signal files')"
   ]
  },
  {
   "cell_type": "markdown",
   "id": "609cce8a",
   "metadata": {},
   "source": [
    "----"
   ]
  },
  {
   "cell_type": "markdown",
   "id": "ba042a7b",
   "metadata": {},
   "source": [
    "### EDA\\#1 Jet mass distribution\n",
    "\n",
    "Our regression model is capable of predicting the mass, or weight, of particle jets based on the information learned from features relevant to jet and other existing components in the jet. These jets can be largely categorized into two distinct groups: `QCD` and `Signal`. Some signal jets are known to be relatively heavier than QCD jets due to the type of resulting decay products and their expected lifespan, which allow longer-living particles to be heavier."
   ]
  },
  {
   "cell_type": "markdown",
   "id": "7d244ee3",
   "metadata": {},
   "source": [
    "##### Part1 -- Validation\n",
    "\n",
    "Before exploring, we need to ensure each jet belongs to one and only one jet type. "
   ]
  },
  {
   "cell_type": "code",
   "execution_count": null,
   "id": "4b369e81",
   "metadata": {
    "scrolled": false
   },
   "outputs": [],
   "source": [
    "df_qcd = load_jet_features(qcd_eda_sets)\n",
    "display(df_qcd.head())\n",
    "print('\\n', f'{df_qcd.shape[0]} randomly generated QCD jet samples')"
   ]
  },
  {
   "cell_type": "code",
   "execution_count": null,
   "id": "c2dae99d",
   "metadata": {
    "scrolled": true
   },
   "outputs": [],
   "source": [
    "df_signal = load_jet_features(signal_eda_sets)\n",
    "display(df_signal.head())\n",
    "print('\\n', f'{df_signal.shape[0]} randomly generated Signal jet samples')"
   ]
  },
  {
   "cell_type": "code",
   "execution_count": null,
   "id": "87c37232",
   "metadata": {},
   "outputs": [],
   "source": [
    "# QCD\n",
    "# For this checkup, we only need label attribute\n",
    "\n",
    "IS_QCDb = 'fj_isQCDb'\n",
    "IS_QCDothers = 'fj_isQCDothers'\n",
    "all_attrs = df_qcd.columns.tolist()\n",
    "start_idx = all_attrs.index(IS_QCDb)\n",
    "end_idx = all_attrs.index(IS_QCDothers)+1\n",
    "\n",
    "qcd_labels = all_attrs[start_idx:end_idx]"
   ]
  },
  {
   "cell_type": "code",
   "execution_count": null,
   "id": "a857433a",
   "metadata": {},
   "outputs": [],
   "source": [
    "df_qcd_labels = df_qcd[qcd_labels]\n",
    "display(df_qcd_labels.head())"
   ]
  },
  {
   "cell_type": "code",
   "execution_count": 49,
   "id": "be01589f",
   "metadata": {
    "scrolled": true
   },
   "outputs": [
    {
     "name": "stdout",
     "output_type": "stream",
     "text": [
      "Each jet corresponds to exactly one type: True\n"
     ]
    }
   ],
   "source": [
    "# We want each jet corresponding to exactly one type\n",
    "# Having `True` in below print statement proves this\n",
    "\n",
    "print(f'Each jet corresponds to exactly one type:\\\n",
    " {len(df_qcd_labels.sum(axis=1).unique()) == 1}')"
   ]
  },
  {
   "cell_type": "code",
   "execution_count": 50,
   "id": "74b04a25",
   "metadata": {
    "scrolled": true
   },
   "outputs": [
    {
     "data": {
      "text/html": [
       "<div>\n",
       "<style scoped>\n",
       "    .dataframe tbody tr th:only-of-type {\n",
       "        vertical-align: middle;\n",
       "    }\n",
       "\n",
       "    .dataframe tbody tr th {\n",
       "        vertical-align: top;\n",
       "    }\n",
       "\n",
       "    .dataframe thead th {\n",
       "        text-align: right;\n",
       "    }\n",
       "</style>\n",
       "<table border=\"1\" class=\"dataframe\">\n",
       "  <thead>\n",
       "    <tr style=\"text-align: right;\">\n",
       "      <th></th>\n",
       "      <th>Count</th>\n",
       "    </tr>\n",
       "  </thead>\n",
       "  <tbody>\n",
       "    <tr>\n",
       "      <th>fj_isQCDothers</th>\n",
       "      <td>251314</td>\n",
       "    </tr>\n",
       "    <tr>\n",
       "      <th>fj_isQCDlep</th>\n",
       "      <td>89640</td>\n",
       "    </tr>\n",
       "    <tr>\n",
       "      <th>fj_isQCDcc</th>\n",
       "      <td>29023</td>\n",
       "    </tr>\n",
       "    <tr>\n",
       "      <th>fj_isQCDc</th>\n",
       "      <td>28964</td>\n",
       "    </tr>\n",
       "    <tr>\n",
       "      <th>fj_isQCDb</th>\n",
       "      <td>7205</td>\n",
       "    </tr>\n",
       "    <tr>\n",
       "      <th>fj_isQCDbb</th>\n",
       "      <td>6805</td>\n",
       "    </tr>\n",
       "  </tbody>\n",
       "</table>\n",
       "</div>"
      ],
      "text/plain": [
       "                 Count\n",
       "fj_isQCDothers  251314\n",
       "fj_isQCDlep      89640\n",
       "fj_isQCDcc       29023\n",
       "fj_isQCDc        28964\n",
       "fj_isQCDb         7205\n",
       "fj_isQCDbb        6805"
      ]
     },
     "metadata": {},
     "output_type": "display_data"
    }
   ],
   "source": [
    "# How many jets are there for different QCD types?\n",
    "\n",
    "display(df_qcd_labels.sum(axis=0).sort_values(ascending=False)\n",
    "        .to_frame(name='Count'))"
   ]
  },
  {
   "cell_type": "code",
   "execution_count": 51,
   "id": "f87bd2ab",
   "metadata": {},
   "outputs": [],
   "source": [
    "# Signal jets\n",
    "# For this checkup, we only need label attribute\n",
    "\n",
    "IS_HBB = 'fj_H_bb'\n",
    "IS_HQQ = 'fj_H_qq'\n",
    "all_attrs = df_signal.columns.tolist()\n",
    "start_idx = all_attrs.index(IS_HBB)\n",
    "end_idx = all_attrs.index(IS_HQQ)+1\n",
    "\n",
    "signal_labels = all_attrs[start_idx:end_idx]"
   ]
  },
  {
   "cell_type": "code",
   "execution_count": 52,
   "id": "fbd44f87",
   "metadata": {},
   "outputs": [
    {
     "name": "stdout",
     "output_type": "stream",
     "text": [
      "Before filtering: 479898 rows \n",
      "\n",
      "After filtering: 479856 rows\n"
     ]
    }
   ],
   "source": [
    "df_signal_labels = df_signal[signal_labels]\n",
    "\n",
    "# We're only going to include signal jets\n",
    "# of types H_bb, H_cc, H_qq for performing EDA\n",
    "# since these three types of Higgs jets \n",
    "# are the most common elementary particles\n",
    "# Higgs bosons decay into\n",
    "df_signal_labels = df_signal_labels[\n",
    "    (df_signal_labels['fj_H_bb'] == 1) |\n",
    "    (df_signal_labels['fj_H_cc'] == 1) |\n",
    "    (df_signal_labels['fj_H_qq'] == 1)\n",
    "]\n",
    "\n",
    "# Drop observations that are associated to more than single type\n",
    "df_signal_labels['temp'] = df_signal_labels['fj_H_bb'] + df_signal_labels['fj_H_cc'] + df_signal_labels['fj_H_qq']\n",
    "print(f'Before filtering: {df_signal_labels.shape[0]} rows', '\\n')\n",
    "\n",
    "df_signal_labels = df_signal_labels[df_signal_labels['temp'] == 1].drop(columns='temp')\n",
    "print(f'After filtering: {df_signal_labels.shape[0]} rows')"
   ]
  },
  {
   "cell_type": "code",
   "execution_count": 53,
   "id": "4846e9ea",
   "metadata": {
    "scrolled": true
   },
   "outputs": [
    {
     "name": "stdout",
     "output_type": "stream",
     "text": [
      "Each jet corresponds to exactly one type: True\n"
     ]
    }
   ],
   "source": [
    "# We want each jet corresponding to exactly one type\n",
    "\n",
    "print(f'Each jet corresponds to exactly one type:\\\n",
    " {len(df_signal_labels.sum(axis=1).unique()) == 1}')"
   ]
  },
  {
   "cell_type": "code",
   "execution_count": 54,
   "id": "147244a3",
   "metadata": {
    "scrolled": true
   },
   "outputs": [
    {
     "data": {
      "text/html": [
       "<div>\n",
       "<style scoped>\n",
       "    .dataframe tbody tr th:only-of-type {\n",
       "        vertical-align: middle;\n",
       "    }\n",
       "\n",
       "    .dataframe tbody tr th {\n",
       "        vertical-align: top;\n",
       "    }\n",
       "\n",
       "    .dataframe thead th {\n",
       "        text-align: right;\n",
       "    }\n",
       "</style>\n",
       "<table border=\"1\" class=\"dataframe\">\n",
       "  <thead>\n",
       "    <tr style=\"text-align: right;\">\n",
       "      <th></th>\n",
       "      <th>Count</th>\n",
       "    </tr>\n",
       "  </thead>\n",
       "  <tbody>\n",
       "    <tr>\n",
       "      <th>fj_H_qq</th>\n",
       "      <td>160226</td>\n",
       "    </tr>\n",
       "    <tr>\n",
       "      <th>fj_H_bb</th>\n",
       "      <td>159898</td>\n",
       "    </tr>\n",
       "    <tr>\n",
       "      <th>fj_H_cc</th>\n",
       "      <td>159732</td>\n",
       "    </tr>\n",
       "  </tbody>\n",
       "</table>\n",
       "</div>"
      ],
      "text/plain": [
       "          Count\n",
       "fj_H_qq  160226\n",
       "fj_H_bb  159898\n",
       "fj_H_cc  159732"
      ]
     },
     "metadata": {},
     "output_type": "display_data"
    }
   ],
   "source": [
    "# How many jets are there for different signal jet types?\n",
    "\n",
    "display(df_signal_labels.sum(axis=0).sort_values(ascending=False).to_frame(name='Count'))"
   ]
  },
  {
   "cell_type": "markdown",
   "id": "e0d999b9",
   "metadata": {},
   "source": [
    "##### Part2 -- Distribution of the jet mass for each jet type"
   ]
  },
  {
   "cell_type": "code",
   "execution_count": 55,
   "id": "54dfa8fa",
   "metadata": {},
   "outputs": [],
   "source": [
    "# Filtering using the validation results\n",
    "\n",
    "signal_idx = df_signal_labels.index.tolist()\n",
    "df_signal = df_signal.filter(items=signal_idx, axis=0)"
   ]
  },
  {
   "cell_type": "code",
   "execution_count": 56,
   "id": "ce22afe0",
   "metadata": {
    "scrolled": true
   },
   "outputs": [
    {
     "data": {
      "text/html": [
       "<div>\n",
       "<style scoped>\n",
       "    .dataframe tbody tr th:only-of-type {\n",
       "        vertical-align: middle;\n",
       "    }\n",
       "\n",
       "    .dataframe tbody tr th {\n",
       "        vertical-align: top;\n",
       "    }\n",
       "\n",
       "    .dataframe thead th {\n",
       "        text-align: right;\n",
       "    }\n",
       "</style>\n",
       "<table border=\"1\" class=\"dataframe\">\n",
       "  <thead>\n",
       "    <tr style=\"text-align: right;\">\n",
       "      <th></th>\n",
       "      <th>fj_pt</th>\n",
       "      <th>fj_eta</th>\n",
       "      <th>fj_phi</th>\n",
       "      <th>fj_mass</th>\n",
       "      <th>fj_msoftdrop</th>\n",
       "      <th>fj_deepTagMD_H4qvsQCD</th>\n",
       "      <th>fj_deepTag_HvsQCD</th>\n",
       "      <th>fj_PN_H4qvsQCD</th>\n",
       "      <th>fj_PN_XbbvsQCD</th>\n",
       "      <th>fj_genjetmsd</th>\n",
       "      <th>...</th>\n",
       "      <th>fj_genWstar_decay</th>\n",
       "      <th>fj_evt_met_covxx</th>\n",
       "      <th>fj_evt_met_covxy</th>\n",
       "      <th>fj_evt_met_covyy</th>\n",
       "      <th>fj_evt_met_dphi</th>\n",
       "      <th>fj_evt_met_pt</th>\n",
       "      <th>fj_evt_met_sig</th>\n",
       "      <th>fj_evt_pupmet_pt</th>\n",
       "      <th>fj_evt_pupmet_dphi</th>\n",
       "      <th>Type</th>\n",
       "    </tr>\n",
       "  </thead>\n",
       "  <tbody>\n",
       "    <tr>\n",
       "      <th>0</th>\n",
       "      <td>577.00</td>\n",
       "      <td>1.253662</td>\n",
       "      <td>0.694458</td>\n",
       "      <td>463.250</td>\n",
       "      <td>459.250000</td>\n",
       "      <td>-1000.0</td>\n",
       "      <td>-1000.0</td>\n",
       "      <td>0.015396</td>\n",
       "      <td>0.002554</td>\n",
       "      <td>443.750000</td>\n",
       "      <td>...</td>\n",
       "      <td>-99.0</td>\n",
       "      <td>892.0</td>\n",
       "      <td>606.0</td>\n",
       "      <td>764.0</td>\n",
       "      <td>-3.049438</td>\n",
       "      <td>77.593201</td>\n",
       "      <td>4.257812</td>\n",
       "      <td>82.249359</td>\n",
       "      <td>-3.041138</td>\n",
       "      <td>QCD</td>\n",
       "    </tr>\n",
       "    <tr>\n",
       "      <th>1</th>\n",
       "      <td>487.75</td>\n",
       "      <td>-0.114594</td>\n",
       "      <td>-2.475586</td>\n",
       "      <td>69.625</td>\n",
       "      <td>32.562500</td>\n",
       "      <td>-1000.0</td>\n",
       "      <td>-1000.0</td>\n",
       "      <td>0.002708</td>\n",
       "      <td>0.010614</td>\n",
       "      <td>37.343750</td>\n",
       "      <td>...</td>\n",
       "      <td>-99.0</td>\n",
       "      <td>892.0</td>\n",
       "      <td>606.0</td>\n",
       "      <td>764.0</td>\n",
       "      <td>0.120605</td>\n",
       "      <td>77.593201</td>\n",
       "      <td>4.257812</td>\n",
       "      <td>82.249359</td>\n",
       "      <td>0.128906</td>\n",
       "      <td>QCD</td>\n",
       "    </tr>\n",
       "    <tr>\n",
       "      <th>2</th>\n",
       "      <td>338.50</td>\n",
       "      <td>0.770996</td>\n",
       "      <td>0.057434</td>\n",
       "      <td>44.125</td>\n",
       "      <td>0.154175</td>\n",
       "      <td>-1000.0</td>\n",
       "      <td>-1000.0</td>\n",
       "      <td>0.012904</td>\n",
       "      <td>0.081559</td>\n",
       "      <td>2.058594</td>\n",
       "      <td>...</td>\n",
       "      <td>-99.0</td>\n",
       "      <td>1692.0</td>\n",
       "      <td>66.5</td>\n",
       "      <td>518.0</td>\n",
       "      <td>-2.951965</td>\n",
       "      <td>49.905506</td>\n",
       "      <td>1.589844</td>\n",
       "      <td>204.212372</td>\n",
       "      <td>-3.056458</td>\n",
       "      <td>QCD</td>\n",
       "    </tr>\n",
       "    <tr>\n",
       "      <th>3</th>\n",
       "      <td>409.25</td>\n",
       "      <td>0.350830</td>\n",
       "      <td>-2.502441</td>\n",
       "      <td>78.625</td>\n",
       "      <td>5.953125</td>\n",
       "      <td>-1000.0</td>\n",
       "      <td>-1000.0</td>\n",
       "      <td>0.000011</td>\n",
       "      <td>0.000002</td>\n",
       "      <td>7.757812</td>\n",
       "      <td>...</td>\n",
       "      <td>-99.0</td>\n",
       "      <td>1568.0</td>\n",
       "      <td>1040.0</td>\n",
       "      <td>1388.0</td>\n",
       "      <td>1.370850</td>\n",
       "      <td>17.787409</td>\n",
       "      <td>0.673340</td>\n",
       "      <td>22.904118</td>\n",
       "      <td>0.955811</td>\n",
       "      <td>QCD</td>\n",
       "    </tr>\n",
       "    <tr>\n",
       "      <th>4</th>\n",
       "      <td>398.00</td>\n",
       "      <td>0.250732</td>\n",
       "      <td>1.083984</td>\n",
       "      <td>213.375</td>\n",
       "      <td>216.500000</td>\n",
       "      <td>-1000.0</td>\n",
       "      <td>-1000.0</td>\n",
       "      <td>0.000108</td>\n",
       "      <td>0.000002</td>\n",
       "      <td>230.125000</td>\n",
       "      <td>...</td>\n",
       "      <td>-99.0</td>\n",
       "      <td>1568.0</td>\n",
       "      <td>1040.0</td>\n",
       "      <td>1388.0</td>\n",
       "      <td>-2.215576</td>\n",
       "      <td>17.787409</td>\n",
       "      <td>0.673340</td>\n",
       "      <td>22.904118</td>\n",
       "      <td>-2.630615</td>\n",
       "      <td>QCD</td>\n",
       "    </tr>\n",
       "  </tbody>\n",
       "</table>\n",
       "<p>5 rows × 58 columns</p>\n",
       "</div>"
      ],
      "text/plain": [
       "    fj_pt    fj_eta    fj_phi  fj_mass  fj_msoftdrop  fj_deepTagMD_H4qvsQCD  \\\n",
       "0  577.00  1.253662  0.694458  463.250    459.250000                -1000.0   \n",
       "1  487.75 -0.114594 -2.475586   69.625     32.562500                -1000.0   \n",
       "2  338.50  0.770996  0.057434   44.125      0.154175                -1000.0   \n",
       "3  409.25  0.350830 -2.502441   78.625      5.953125                -1000.0   \n",
       "4  398.00  0.250732  1.083984  213.375    216.500000                -1000.0   \n",
       "\n",
       "   fj_deepTag_HvsQCD  fj_PN_H4qvsQCD  fj_PN_XbbvsQCD  fj_genjetmsd  ...  \\\n",
       "0            -1000.0        0.015396        0.002554    443.750000  ...   \n",
       "1            -1000.0        0.002708        0.010614     37.343750  ...   \n",
       "2            -1000.0        0.012904        0.081559      2.058594  ...   \n",
       "3            -1000.0        0.000011        0.000002      7.757812  ...   \n",
       "4            -1000.0        0.000108        0.000002    230.125000  ...   \n",
       "\n",
       "   fj_genWstar_decay  fj_evt_met_covxx  fj_evt_met_covxy  fj_evt_met_covyy  \\\n",
       "0              -99.0             892.0             606.0             764.0   \n",
       "1              -99.0             892.0             606.0             764.0   \n",
       "2              -99.0            1692.0              66.5             518.0   \n",
       "3              -99.0            1568.0            1040.0            1388.0   \n",
       "4              -99.0            1568.0            1040.0            1388.0   \n",
       "\n",
       "   fj_evt_met_dphi  fj_evt_met_pt  fj_evt_met_sig  fj_evt_pupmet_pt  \\\n",
       "0        -3.049438      77.593201        4.257812         82.249359   \n",
       "1         0.120605      77.593201        4.257812         82.249359   \n",
       "2        -2.951965      49.905506        1.589844        204.212372   \n",
       "3         1.370850      17.787409        0.673340         22.904118   \n",
       "4        -2.215576      17.787409        0.673340         22.904118   \n",
       "\n",
       "   fj_evt_pupmet_dphi  Type  \n",
       "0           -3.041138   QCD  \n",
       "1            0.128906   QCD  \n",
       "2           -3.056458   QCD  \n",
       "3            0.955811   QCD  \n",
       "4           -2.630615   QCD  \n",
       "\n",
       "[5 rows x 58 columns]"
      ]
     },
     "metadata": {},
     "output_type": "display_data"
    }
   ],
   "source": [
    "# Create temporary `class` label to differentiate QCD jets from signal jets\n",
    "# Then concatenate QCD dataset to signal dataset\n",
    "\n",
    "df_qcd['Type'] = 'QCD'\n",
    "df_signal['Type'] = 'Signal'\n",
    "\n",
    "df_qcd_and_signal = pd.concat([df_qcd, df_signal], axis=0)\n",
    "display(df_qcd_and_signal.head())"
   ]
  },
  {
   "cell_type": "code",
   "execution_count": 57,
   "id": "156dbe34",
   "metadata": {
    "scrolled": true
   },
   "outputs": [
    {
     "ename": "NameError",
     "evalue": "name 'avg_mass_signal' is not defined",
     "output_type": "error",
     "traceback": [
      "\u001b[0;31m\u001b[0m",
      "\u001b[0;31mNameError\u001b[0mTraceback (most recent call last)",
      "\u001b[0;32m<ipython-input-57-442da75582bc>\u001b[0m in \u001b[0;36m<module>\u001b[0;34m\u001b[0m\n\u001b[0;32m----> 1\u001b[0;31m \u001b[0mhist\u001b[0m\u001b[0;34m,\u001b[0m \u001b[0msummary\u001b[0m \u001b[0;34m=\u001b[0m \u001b[0mmass_distribution\u001b[0m\u001b[0;34m(\u001b[0m\u001b[0mdf_qcd_and_signal\u001b[0m\u001b[0;34m)\u001b[0m\u001b[0;34m\u001b[0m\u001b[0;34m\u001b[0m\u001b[0m\n\u001b[0m",
      "\u001b[0;32m~/DSC180B-A11-Project/src/mass_distribution.py\u001b[0m in \u001b[0;36mmass_distribution\u001b[0;34m(df)\u001b[0m\n\u001b[1;32m     16\u001b[0m \u001b[0;34m\u001b[0m\u001b[0m\n\u001b[1;32m     17\u001b[0m     \u001b[0;31m# Summary stat table\u001b[0m\u001b[0;34m\u001b[0m\u001b[0;34m\u001b[0m\u001b[0;34m\u001b[0m\u001b[0m\n\u001b[0;32m---> 18\u001b[0;31m     \u001b[0msummary\u001b[0m \u001b[0;34m=\u001b[0m \u001b[0mdf\u001b[0m\u001b[0;34m.\u001b[0m\u001b[0mgroupby\u001b[0m\u001b[0;34m(\u001b[0m\u001b[0;34m'Type'\u001b[0m\u001b[0;34m)\u001b[0m\u001b[0;34m.\u001b[0m\u001b[0maggregate\u001b[0m\u001b[0;34m(\u001b[0m\u001b[0mAvg_jetmass\u001b[0m\u001b[0;34m=\u001b[0m\u001b[0;34m(\u001b[0m\u001b[0mMASS\u001b[0m\u001b[0;34m,\u001b[0m \u001b[0;34m'mean'\u001b[0m\u001b[0;34m)\u001b[0m\u001b[0;34m,\u001b[0m \u001b[0mMed_jetmass\u001b[0m\u001b[0;34m=\u001b[0m\u001b[0;34m(\u001b[0m\u001b[0mMASS\u001b[0m\u001b[0;34m,\u001b[0m \u001b[0;34m'median'\u001b[0m\u001b[0;34m)\u001b[0m\u001b[0;34m)\u001b[0m\u001b[0;34m\u001b[0m\u001b[0;34m\u001b[0m\u001b[0m\n\u001b[0m\u001b[1;32m     19\u001b[0m     \u001b[0mavg_mass_signal\u001b[0m \u001b[0;34m=\u001b[0m \u001b[0msummary\u001b[0m\u001b[0;34m.\u001b[0m\u001b[0mloc\u001b[0m\u001b[0;34m[\u001b[0m\u001b[0;34m'Signal'\u001b[0m\u001b[0;34m,\u001b[0m \u001b[0;34m'Avg_jetmass'\u001b[0m\u001b[0;34m]\u001b[0m\u001b[0;34m\u001b[0m\u001b[0;34m\u001b[0m\u001b[0m\n\u001b[1;32m     20\u001b[0m     \u001b[0mavg_mass_qcd\u001b[0m \u001b[0;34m=\u001b[0m \u001b[0msummary\u001b[0m\u001b[0;34m.\u001b[0m\u001b[0mloc\u001b[0m\u001b[0;34m[\u001b[0m\u001b[0;34m'QCD'\u001b[0m\u001b[0;34m,\u001b[0m \u001b[0;34m'Avg_jetmass'\u001b[0m\u001b[0;34m]\u001b[0m\u001b[0;34m\u001b[0m\u001b[0;34m\u001b[0m\u001b[0m\n",
      "\u001b[0;31mNameError\u001b[0m: name 'avg_mass_signal' is not defined"
     ]
    }
   ],
   "source": [
    "hist, summary = mass_distribution(df_qcd_and_signal)"
   ]
  },
  {
   "cell_type": "code",
   "execution_count": 58,
   "id": "0afe79a8",
   "metadata": {},
   "outputs": [
    {
     "data": {
      "text/html": [
       "<div>\n",
       "<style scoped>\n",
       "    .dataframe tbody tr th:only-of-type {\n",
       "        vertical-align: middle;\n",
       "    }\n",
       "\n",
       "    .dataframe tbody tr th {\n",
       "        vertical-align: top;\n",
       "    }\n",
       "\n",
       "    .dataframe thead th {\n",
       "        text-align: right;\n",
       "    }\n",
       "</style>\n",
       "<table border=\"1\" class=\"dataframe\">\n",
       "  <thead>\n",
       "    <tr style=\"text-align: right;\">\n",
       "      <th></th>\n",
       "      <th>avg_jetmass</th>\n",
       "      <th>med_jetmass</th>\n",
       "    </tr>\n",
       "    <tr>\n",
       "      <th>Type</th>\n",
       "      <th></th>\n",
       "      <th></th>\n",
       "    </tr>\n",
       "  </thead>\n",
       "  <tbody>\n",
       "    <tr>\n",
       "      <th>QCD</th>\n",
       "      <td>125.939079</td>\n",
       "      <td>57.8750</td>\n",
       "    </tr>\n",
       "    <tr>\n",
       "      <th>Signal</th>\n",
       "      <td>180.705322</td>\n",
       "      <td>109.4375</td>\n",
       "    </tr>\n",
       "  </tbody>\n",
       "</table>\n",
       "</div>"
      ],
      "text/plain": [
       "        avg_jetmass  med_jetmass\n",
       "Type                            \n",
       "QCD      125.939079      57.8750\n",
       "Signal   180.705322     109.4375"
      ]
     },
     "execution_count": 58,
     "metadata": {},
     "output_type": "execute_result"
    }
   ],
   "source": [
    "df_qcd_and_signal.groupby('Type').aggregate(avg_jetmass=('fj_genjetmsd','mean'), med_jetmass=('fj_genjetmsd', 'median'))"
   ]
  }
 ],
 "metadata": {
  "kernelspec": {
   "display_name": "Python 3 (clean)",
   "language": "python",
   "name": "python3_clean"
  },
  "language_info": {
   "codemirror_mode": {
    "name": "ipython",
    "version": 3
   },
   "file_extension": ".py",
   "mimetype": "text/x-python",
   "name": "python",
   "nbconvert_exporter": "python",
   "pygments_lexer": "ipython3",
   "version": "3.9.4"
  }
 },
 "nbformat": 4,
 "nbformat_minor": 5
}
