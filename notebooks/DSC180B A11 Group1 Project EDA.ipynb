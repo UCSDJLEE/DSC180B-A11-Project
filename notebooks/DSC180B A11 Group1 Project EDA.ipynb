{
 "cells": [
  {
   "cell_type": "markdown",
   "id": "2de414c1",
   "metadata": {},
   "source": [
    "## DSC180B Group11 Project Report\n",
    "\n",
    " #### This notebook serves to demonstrate different visual plots for exploratory data analysis(EDA) and dataset validation"
   ]
  },
  {
   "cell_type": "code",
   "execution_count": null,
   "id": "214c3144",
   "metadata": {},
   "outputs": [],
   "source": [
    "# Necessary imports\n",
    "\n",
    "import os\n",
    "import sys\n",
    "import pandas as pd\n",
    "import numpy as np\n",
    "import seaborn as sns\n",
    "from pprint import pprint\n",
    "from collections import Counter\n",
    "\n",
    "sys.path.insert(0, '../src')\n",
    "from load_data import path_generator, load_jet_features, load_num_sv\n",
    "from mass_distribution import mass_distribution\n",
    "from sv_mass_distribution import sv_mass_distribution\n",
    "from jet_mass_validation import jet_mass_validation\n",
    "from jet_type_validation import jet_type_validation\n",
    "from pt_mass_relationship import pt_mass_relationship\n",
    "\n",
    "%matplotlib inline"
   ]
  },
  {
   "cell_type": "code",
   "execution_count": null,
   "id": "360dedf1",
   "metadata": {},
   "outputs": [],
   "source": [
    "%load_ext autoreload\n",
    "%autoreload 2"
   ]
  },
  {
   "cell_type": "markdown",
   "id": "0bd70bf0",
   "metadata": {},
   "source": [
    "----"
   ]
  },
  {
   "cell_type": "markdown",
   "id": "63a9e753",
   "metadata": {},
   "source": [
    "### Generating filepaths to sample jet data \n",
    "\n",
    "For performing EDA, we will utilize just certain number of QCD and Signal jets for memory and runtime optimization. Source of these files are located either in `train_mass_qcd` for QCD jets or `train_mass_hbb` for Signal jets. Those directories are then separated into numbers of subdirectories. On average, the size of `.root` files for QCD data is far smaller than those for Signal data; this is possibly due to QCD data existing in smaller partitioned files than Signal data. According to our calculation, approximately $55$ `.root` files of QCD jets are as big as $8$ `.root` files of Signal jets in terms of file(byte) size. Hence by default, `path_generator()` generates $55$ random QCD `.root` files and $8$ random Signal `.root` files."
   ]
  },
  {
   "cell_type": "code",
   "execution_count": null,
   "id": "dc201ab8",
   "metadata": {
    "scrolled": true
   },
   "outputs": [],
   "source": [
    "qcd_eda_sets = path_generator('qcd', eda=True)\n",
    "signal_eda_sets = path_generator('signal', eda=True)\n",
    "print(f'Loaded {len(qcd_eda_sets)} QCD files and \\\n",
    "{len(signal_eda_sets)} Signal files')"
   ]
  },
  {
   "cell_type": "markdown",
   "id": "bf26bd9b",
   "metadata": {},
   "source": [
    "----"
   ]
  },
  {
   "cell_type": "markdown",
   "id": "eff548dc",
   "metadata": {},
   "source": [
    "### Data Validation\\#1 -- Jet types\n",
    "\n",
    "Before exploring our data, we need to ensure each jet belongs to one and only one jet type. Due to its vareity, we won't filter out any QCD jet types but for Signal jets, we will explore only those jets with type `H_bb`, `H_cc`, and `H_qq`. "
   ]
  },
  {
   "cell_type": "code",
   "execution_count": null,
   "id": "af8f2fe7",
   "metadata": {
    "scrolled": true
   },
   "outputs": [],
   "source": [
    "# Load all jet features of QCD jets\n",
    "\n",
    "df_qcd = load_jet_features(qcd_eda_sets)\n",
    "display(df_qcd.head())\n",
    "print('\\n', f'{df_qcd.shape[0]} randomly generated QCD jet samples')"
   ]
  },
  {
   "cell_type": "code",
   "execution_count": null,
   "id": "a2145a9d",
   "metadata": {
    "scrolled": true
   },
   "outputs": [],
   "source": [
    "# QCD jet type validation\n",
    "df_qcd_labels, qcd_counts = jet_type_validation(df_qcd, 'qcd')\n",
    "\n",
    "display(qcd_counts)"
   ]
  },
  {
   "cell_type": "code",
   "execution_count": null,
   "id": "137e0945",
   "metadata": {
    "scrolled": true
   },
   "outputs": [],
   "source": [
    "# Load all jet features of Signal jets\n",
    "\n",
    "df_signal = load_jet_features(signal_eda_sets)\n",
    "display(df_signal.head())\n",
    "print('\\n', f'{df_signal.shape[0]} randomly generated Signal jet samples')"
   ]
  },
  {
   "cell_type": "code",
   "execution_count": null,
   "id": "e05881e8",
   "metadata": {},
   "outputs": [],
   "source": [
    "# Signal jet type validation\n",
    "df_signal_labels, signal_counts = jet_type_validation(df_signal, 'signal')\n",
    "\n",
    "display(signal_counts)"
   ]
  },
  {
   "cell_type": "markdown",
   "id": "b984fbe2",
   "metadata": {},
   "source": [
    "-----"
   ]
  },
  {
   "cell_type": "markdown",
   "id": "a77603f9",
   "metadata": {},
   "source": [
    "### Data Validation\\#2 -- Jet mass\n",
    "\n",
    "There are not only multiple jet types, but also multiple jet mass variable in our datasets including `fj_genjetmsd`, `fj_genjetmass`, `fj_msoftdrop`, `fj_genRes_mass`. However all their measures differ as they're computed using different approaches. For example, `fj_msoftdrop` is a jet sub-constructure output from soft drop declustering, which is a technique that recursively removes soft wide-angle radiation from a jet using parameters like soft threshold($z_{cut}$) and angular exponent(β). On the other hand, `fj_genjetmsd`, which is our target variable, is a generator-level soft drop mass measured based on generator-level particles, or existing particles before any detector interactions. Because of this, **incorporating `fj_msoftdrop` in our model training process won't bias overall learning of the model.** So now, we'll check if `fj_msoftdrop` is an effective feature for predicting generator-level soft drop mass(`fj_genjetmsd`) of a jet by computing coefficient of correlation($R$) and sketching scatterplot. Unlike reconstructured soft drop mass, `fj_genjetmass` and `fj_genRes_mass` are mass variables measured at the collision-generator level. In other words, these two mass variables are the closest to the **true** jet mass. Therefore, they cannot be employed for model training process."
   ]
  },
  {
   "cell_type": "code",
   "execution_count": null,
   "id": "7a4bd187",
   "metadata": {},
   "outputs": [],
   "source": [
    "# Filtering using the validation results\n",
    "\n",
    "signal_idx = df_signal_labels.index.tolist()\n",
    "df_signal = df_signal.filter(items=signal_idx, axis=0)"
   ]
  },
  {
   "cell_type": "code",
   "execution_count": null,
   "id": "9caaec12",
   "metadata": {
    "scrolled": false
   },
   "outputs": [],
   "source": [
    "# We only need the two mass variables\n",
    "# and column for jet labels\n",
    "\n",
    "mass_attrs = ['fj_msoftdrop', 'fj_genjetmsd']\n",
    "df_qcd_mass = df_qcd[mass_attrs]\n",
    "df_qcd_mass = df_qcd_mass.assign(jet_type='QCD')\n",
    "\n",
    "df_signal_mass = df_signal[mass_attrs]\n",
    "df_signal_mass = df_signal_mass.assign(jet_type='Signal')\n",
    "\n",
    "df_mass = pd.concat([df_qcd_mass, df_signal_mass], axis=0).reset_index(drop=True)\n",
    "display(df_mass.head())"
   ]
  },
  {
   "cell_type": "code",
   "execution_count": null,
   "id": "fc758503",
   "metadata": {
    "scrolled": true
   },
   "outputs": [],
   "source": [
    "# Scatterplot with `fj_msoftdrop` on x-axis and\n",
    "# `fj_genjetmsd` on y-axis\n",
    "\n",
    "scatterplot = jet_mass_validation(df_mass)"
   ]
  },
  {
   "cell_type": "markdown",
   "id": "4870a669",
   "metadata": {},
   "source": [
    "> As expected from computed $R$ score, there exists strong positive linear relationship between the two jet mass attributes for both types of jet. Our exploratory analysis indicates that `fj_msoftdrop` will work greatly in a model training process and thus, improve the overall regression performance of the model. We will definitely incorporate `fj_msoftdrop` in our model training process."
   ]
  },
  {
   "cell_type": "markdown",
   "id": "d390b27b",
   "metadata": {},
   "source": [
    "-----"
   ]
  },
  {
   "cell_type": "markdown",
   "id": "236318fb",
   "metadata": {},
   "source": [
    "### Distribution of Jet mass per jet type\n",
    "\n",
    "Our regression model is capable of predicting the mass, or weight, of particle jets based on the information learned from features relevant to jet and other existing components in the jet. These jets can be largely categorized into two distinct groups: `QCD` and `Signal`. Some signal jets are known to be relatively heavier than QCD jets due to the type of resulting decay products and their expected lifespan, which allow longer-living particles to be heavier."
   ]
  },
  {
   "cell_type": "code",
   "execution_count": null,
   "id": "a7a41c3c",
   "metadata": {
    "scrolled": false
   },
   "outputs": [],
   "source": [
    "# Create temporary attr `Type` to differentiate QCD jets from signal jets\n",
    "# Then concatenate QCD dataset to signal dataset\n",
    "\n",
    "df_qcd['Type'] = 'QCD'\n",
    "df_signal['Type'] = 'Signal'\n",
    "\n",
    "df_qcd_and_signal = pd.concat([df_qcd, df_signal], axis=0)\n",
    "display(df_qcd_and_signal.head())"
   ]
  },
  {
   "cell_type": "code",
   "execution_count": null,
   "id": "03cab528",
   "metadata": {
    "scrolled": false
   },
   "outputs": [],
   "source": [
    "hist, summary = mass_distribution(df_qcd_and_signal)\n",
    "\n",
    "display(summary)\n",
    "print('\\n')"
   ]
  },
  {
   "cell_type": "markdown",
   "id": "8f04e087",
   "metadata": {},
   "source": [
    "> You can see that there are more QCD jets clustered in left-hand side of the plot than Signal jets, and the height of QCD jet bins eventually get shorter as the mass gets bigger. Signal jets in our dataset also have higher both average and median jet mass than QCD jets. This trend aligns with the particles in Signal jets having  relatively longer lifespan than those in QCD jets as heavier particles live longer until they decay."
   ]
  },
  {
   "cell_type": "markdown",
   "id": "db79d398",
   "metadata": {},
   "source": [
    "------"
   ]
  },
  {
   "cell_type": "markdown",
   "id": "1d76d3b6",
   "metadata": {},
   "source": [
    "### Relationship between number of secondary verticies recorded in a jet and its mass\n",
    "\n",
    "When two protons collide, the collision produces particles that soon decay into other sub-particles. However, not all particles, or sub-particles, decay at the same rate; typically, heavier particles have longer lifespan than lighter particles, which allows them to travel further away from the origin collision point(AKA *primary vertex*). At some point, those heavy particles decay into sub-particles as well, at which the decay point is recorded distant from origin collision point. This distant decay point is what scientists refer as *secondary vertex*. In other words, secondary vertices are usually recorded in a jet that contains some particles heavy enough to travel distant away from origin collision point. Based on this theory, we wanted to answer: Do the jets that have more secondary vertices recorded tend to be heavier than those that have fewer secondary vertices. We will check this potential relationship by plotting boxplot and linear-regression plot(`lmplot`)"
   ]
  },
  {
   "cell_type": "markdown",
   "id": "02b38195",
   "metadata": {},
   "source": [
    "#### A. QCD jets"
   ]
  },
  {
   "cell_type": "code",
   "execution_count": null,
   "id": "639d7c6b",
   "metadata": {
    "scrolled": true
   },
   "outputs": [],
   "source": [
    "# Load attributes relevant to secondary vertices in QCD jets data\n",
    "\n",
    "qcd_num_svs, qcd_jet_mass = load_num_sv(qcd_eda_sets)"
   ]
  },
  {
   "cell_type": "code",
   "execution_count": null,
   "id": "913b0889",
   "metadata": {},
   "outputs": [],
   "source": [
    "# Calculate necessary statistics\n",
    "\n",
    "avg_qcd_num_svs = np.mean(qcd_num_svs)\n",
    "avg_qcd_jet_mass = np.mean(qcd_jet_mass)\n",
    "\n",
    "med_qcd_num_svs = np.median(qcd_num_svs)\n",
    "med_qcd_jet_mass = np.median(qcd_jet_mass)\n",
    "\n",
    "# We will check the most common count of \n",
    "# secondary vertices recorded in QCD jets\n",
    "qcd_num_svs_counter = Counter(qcd_num_svs)\n",
    "temp = qcd_num_svs_counter.items()\n",
    "qcd_num_svs_counts = sorted(temp, reverse=True, key=lambda x:x[1])"
   ]
  },
  {
   "cell_type": "code",
   "execution_count": null,
   "id": "0f9938da",
   "metadata": {},
   "outputs": [],
   "source": [
    "df_qcd_num_svs_counts = pd.DataFrame(qcd_num_svs_counts,\n",
    "                                     columns=['# of SVs in a jet', 'counts'],\n",
    "                                    ).set_index('# of SVs in a jet')\n",
    "\n",
    "display(df_qcd_num_svs_counts)\n",
    "print(f'Majority of QCD jets in our data has zero to only few secondary vertex\\\n",
    " recorded', '\\n')"
   ]
  },
  {
   "cell_type": "code",
   "execution_count": null,
   "id": "1ea50527",
   "metadata": {},
   "outputs": [],
   "source": [
    "# Construct dataframe with available information\n",
    "\n",
    "qcd_dict = {\n",
    "    '# of SVs recorded':qcd_num_svs,\n",
    "    'generator-level soft drop mass':qcd_jet_mass\n",
    "}\n",
    "\n",
    "qcd_df = pd.DataFrame(qcd_dict)\n",
    "display(qcd_df.head())"
   ]
  },
  {
   "cell_type": "code",
   "execution_count": null,
   "id": "93eea636",
   "metadata": {
    "scrolled": false
   },
   "outputs": [],
   "source": [
    "# Visualize distribution of jet mass\n",
    "# per QCD jets with different number of SVs in them\n",
    "# using boxplot\n",
    "\n",
    "box, summary = sv_mass_distribution(qcd_df)\n",
    "\n",
    "display(summary)\n",
    "print('\\n')"
   ]
  },
  {
   "cell_type": "markdown",
   "id": "e50ebcdf",
   "metadata": {},
   "source": [
    "#### B. Signal jets"
   ]
  },
  {
   "cell_type": "code",
   "execution_count": null,
   "id": "350ac3c9",
   "metadata": {},
   "outputs": [],
   "source": [
    "# Load attributes relevant to secondary vertices in Signal jets data\n",
    "\n",
    "signal_num_svs, signal_jet_mass = load_num_sv(signal_eda_sets)"
   ]
  },
  {
   "cell_type": "code",
   "execution_count": null,
   "id": "7481fa29",
   "metadata": {},
   "outputs": [],
   "source": [
    "# Calculate necessary statistics\n",
    "\n",
    "avg_signal_num_svs = np.mean(signal_num_svs)\n",
    "avg_signal_jet_mass = np.mean(signal_jet_mass)\n",
    "\n",
    "med_signal_num_svs = np.median(signal_num_svs)\n",
    "med_signal_jet_mass = np.median(signal_jet_mass)\n",
    "\n",
    "# We will check the most common count of \n",
    "# secondary vertices recorded in Signal jets\n",
    "signal_num_svs_counter = Counter(signal_num_svs)\n",
    "temp = signal_num_svs_counter.items()\n",
    "signal_num_svs_counts = sorted(temp, reverse=True, key=lambda x:x[1])"
   ]
  },
  {
   "cell_type": "code",
   "execution_count": null,
   "id": "1f887390",
   "metadata": {},
   "outputs": [],
   "source": [
    "df_signal_num_svs_counts = pd.DataFrame(signal_num_svs_counts,\n",
    "                                       columns=['# of SVs in a jet', 'counts']\n",
    "                                       ).set_index('# of SVs in a jet')\n",
    "\n",
    "display(df_signal_num_svs_counts)\n",
    "print(f'Unlike QCD, majority of Signal jets in our data has at least 1 secondary vertices\\\n",
    " recorded')"
   ]
  },
  {
   "cell_type": "code",
   "execution_count": null,
   "id": "2c42a5da",
   "metadata": {},
   "outputs": [],
   "source": [
    "signal_dict = {\n",
    "    '# of SVs recorded':signal_num_svs,\n",
    "    'generator-level soft drop mass':signal_jet_mass\n",
    "}\n",
    "\n",
    "signal_df = pd.DataFrame(signal_dict)\n",
    "display(signal_df.head())"
   ]
  },
  {
   "cell_type": "code",
   "execution_count": null,
   "id": "108cdb63",
   "metadata": {
    "scrolled": false
   },
   "outputs": [],
   "source": [
    "# Construct dataframe with available information\n",
    "\n",
    "signal_box, summary = sv_mass_distribution(signal_df)\n",
    "\n",
    "display(summary)\n",
    "print('\\n')"
   ]
  },
  {
   "cell_type": "markdown",
   "id": "50fe881b",
   "metadata": {},
   "source": [
    "> As the presence of secondary vertices in a jet often indicates presence of heavy particles with longer lifespan, we expected number of secondary vertices recorded in a jet to have positive relationship with the jet mass. For instance, the two b-quarks produced from the decay of Higgs boson have relatively longer lifespan due to its heavier weight, which allow them to travel far enough from primary vertex and form secondary vertex. From above boxplots, we can see clear positive trend in jet mass for QCD jets as more secondary vertices are recorded in them. Surprisingly, signal jets failed to show as strong positive trend in jet mass with respect to increasing number of recorded secondary vertices. We strongly assume this has to do with presence of noise data in our dataset. But overall, there exist positive relationship between number of secondary vertices recorded in a jet and the mass of that jet."
   ]
  },
  {
   "cell_type": "markdown",
   "id": "b098fdfb",
   "metadata": {},
   "source": [
    "-----"
   ]
  },
  {
   "cell_type": "markdown",
   "id": "16a0478b",
   "metadata": {},
   "source": [
    "### Transverse momentum of the jet and jet mass\n",
    "\n",
    "Transverse momentum of a jet(`fj_pt`) is a jet momentum in transverse plane, or the plane perpendicular to the collision point, or beam axis. Because hard proton-proton collisions force produced particles to travel further from the collision point, jets from such hard collisions tend to have higher transverse momentum. It is also known that particles capable of traveling further have relatively longer lifespan. And the longer the lifespan of the particle, the heavier the particle tends to be. Based on this theory, we believe those jets with high transverse momentum are likely to be heavy. We will check this by making scatterplot with transverse momentum of the jet, or `fj_pt`, on horizontal axis and generator-level jet mass, `fj_genjetmsd`, on vertical axis. "
   ]
  },
  {
   "cell_type": "code",
   "execution_count": null,
   "id": "e23489c5",
   "metadata": {
    "scrolled": true
   },
   "outputs": [],
   "source": [
    "# Only need certain jet attributes\n",
    "\n",
    "attrs = [\n",
    "    'fj_pt',\n",
    "    'fj_genjetmsd',\n",
    "]\n",
    "\n",
    "df_qcd_pt = df_qcd[attrs]\n",
    "df_qcd_pt = df_qcd_pt.assign(Type='QCD')\n",
    "\n",
    "df_signal_pt = df_signal[attrs]\n",
    "df_signal_pt = df_signal_pt.assign(Type='Signal')\n",
    "\n",
    "df_pt = pd.concat([df_qcd_pt, df_signal_pt], axis=0).reset_index(drop=True)\n",
    "\n",
    "display(df_pt.head())"
   ]
  },
  {
   "cell_type": "code",
   "execution_count": null,
   "id": "037c6dbd",
   "metadata": {
    "scrolled": true
   },
   "outputs": [],
   "source": [
    "# Sketch scatterplot\n",
    "\n",
    "scatterplot = pt_mass_relationship(df_pt)"
   ]
  },
  {
   "cell_type": "markdown",
   "id": "e26cc93c",
   "metadata": {},
   "source": [
    "> Though it's not the most robust relationship, transverse momentum of both types of jets retain positive relationship with their jet mass. In general, jets with higher transverse momentum tend to have higher mass, but there are those with high transverse momentum that are highly light close to mass of 0 as well."
   ]
  }
 ],
 "metadata": {
  "kernelspec": {
   "display_name": "Python 3 (clean)",
   "language": "python",
   "name": "python3_clean"
  },
  "language_info": {
   "codemirror_mode": {
    "name": "ipython",
    "version": 3
   },
   "file_extension": ".py",
   "mimetype": "text/x-python",
   "name": "python",
   "nbconvert_exporter": "python",
   "pygments_lexer": "ipython3",
   "version": "3.9.4"
  }
 },
 "nbformat": 4,
 "nbformat_minor": 5
}
