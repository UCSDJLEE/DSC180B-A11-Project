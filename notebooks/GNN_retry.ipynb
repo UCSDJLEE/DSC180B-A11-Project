{
 "cells": [
  {
   "cell_type": "code",
   "execution_count": 1,
   "id": "481461cb",
   "metadata": {},
   "outputs": [],
   "source": [
    "# Imports for our GNN regression model implementation\n",
    "\n",
    "import torch\n",
    "import torch_geometric\n",
    "import torch.nn as nn\n",
    "from torch.nn import Sequential as Seq, Linear as Lin, ReLU, BatchNorm1d, Flatten, Module\n",
    "from torch_scatter import scatter_mean\n",
    "from torch.utils.data import random_split\n",
    "from torch_geometric.data import DataListLoader, Batch\n",
    "device =  torch.device(\"cuda:0\" if torch.cuda.is_available() else \"cpu\")\n",
    "from tqdm.notebook import tqdm\n",
    "import numpy as np\n",
    "import os\n",
    "import sys\n",
    "import matplotlib.pyplot as plt\n",
    "import seaborn as sns\n",
    "import random\n",
    "\n",
    "sys.path.insert(0, '../src/')\n",
    "from GraphDataset import GraphDataset\n",
    "from load_data import path_generator\n",
    "\n",
    "ROOT = \"/home/h8lee/DSC180B-A11-Project/src\"\n",
    "\n",
    "%matplotlib inline"
   ]
  },
  {
   "cell_type": "code",
   "execution_count": 2,
   "id": "1cf5aee4",
   "metadata": {},
   "outputs": [],
   "source": [
    "import yaml\n",
    "\n",
    "with open(os.path.join(ROOT, '../conf/reg_defs.yml')) as file:\n",
    "    # The FullLoader parameter handles the conversion from YAML\n",
    "    # scalar values to Python the dictionary format\n",
    "    definitions = yaml.load(file, Loader=yaml.FullLoader)\n",
    "    \n",
    "features = definitions['features']\n",
    "spectators = definitions['spectators']\n",
    "labels = definitions['labels']\n",
    "\n",
    "nfeatures = definitions['nfeatures']\n",
    "# nspectators = definitions['nspectators']\n",
    "nlabels = definitions['nlabels']\n",
    "# ntracks = definitions['ntracks']"
   ]
  },
  {
   "cell_type": "code",
   "execution_count": 3,
   "id": "12d595b7",
   "metadata": {
    "scrolled": true
   },
   "outputs": [],
   "source": [
    "train_files = (random.sample(path_generator('signal', eda=False), 20) + \n",
    "                   random.sample(path_generator('qcd', eda=False), 20))\n",
    "dir_path = '/home/h8lee/DSC180B-A11-Project'"
   ]
  },
  {
   "cell_type": "code",
   "execution_count": 4,
   "id": "c240b24a",
   "metadata": {
    "scrolled": false
   },
   "outputs": [],
   "source": [
    "# from RegDataGenerator import DataGenerator\n",
    "# train_files = ['/teams/DSC180A_FA21_A00/a11/train_mass_hbb/BulkGravitonToHHTo4Q_MX-600to6000_MH-15to250_part1_TuneCP5_13TeV-madgraph_pythia8/nano_mc2017_1-1_Skim.root']\n",
    "# dir_path = '/home/h8lee/DSC180B-A11-Project/'\n",
    "\n",
    "# Optimize runtime\n",
    "graph_dataset = GraphDataset(dir_path, features, labels, spectators, n_events=1000, n_events_merge=1, \n",
    "                             file_names= train_files)"
   ]
  },
  {
   "cell_type": "code",
   "execution_count": 5,
   "id": "042f58e8",
   "metadata": {},
   "outputs": [
    {
     "name": "stderr",
     "output_type": "stream",
     "text": [
      "/opt/conda/lib/python3.9/site-packages/torch_geometric/deprecation.py:13: UserWarning: 'data.DataListLoader' is deprecated, use 'loader.DataListLoader' instead\n",
      "  warnings.warn(out)\n"
     ]
    }
   ],
   "source": [
    "def collate(items):\n",
    "    l = sum(items, [])\n",
    "    return Batch.from_data_list(l)\n",
    "\n",
    "torch.manual_seed(0)\n",
    "valid_frac = 0.20\n",
    "full_length = len(graph_dataset)\n",
    "valid_num = int(valid_frac*full_length)\n",
    "batch_size = 32\n",
    "\n",
    "train_dataset, valid_dataset = random_split(graph_dataset, [full_length-valid_num,valid_num])\n",
    "\n",
    "train_loader = DataListLoader(train_dataset, batch_size=batch_size, pin_memory=True, shuffle=True)\n",
    "train_loader.collate_fn = collate\n",
    "valid_loader = DataListLoader(valid_dataset, batch_size=batch_size, pin_memory=True, shuffle=False)\n",
    "valid_loader.collate_fn = collate\n",
    "\n",
    "train_samples = len(train_dataset)\n",
    "valid_samples = len(valid_dataset)"
   ]
  },
  {
   "cell_type": "code",
   "execution_count": 6,
   "id": "1538c6ad",
   "metadata": {
    "scrolled": true
   },
   "outputs": [],
   "source": [
    "# Fixable\n",
    "\n",
    "class Net(nn.Module):\n",
    "    def __init__(self):\n",
    "        super(Net, self).__init__()\n",
    "        self.layer = Seq(Lin(30, 32),\n",
    "                         Lin(32, 200), # Double, Fix the number of neurons\n",
    "                         BatchNorm1d(200),\n",
    "                         Lin(200, 200),\n",
    "                         BatchNorm1d(200),\n",
    "                         Lin(200, 200),\n",
    "                         BatchNorm1d(200),\n",
    "                         Lin(200, 64),\n",
    "                         BatchNorm1d(64),\n",
    "                         Lin(64, 32),\n",
    "                         BatchNorm1d(32),\n",
    "                         ReLU(),\n",
    "                         Lin(32,1))\n",
    "\n",
    "    def forward(self, x, batch):\n",
    "        out = scatter_mean(x, batch, dim=0)\n",
    "        return self.layer(out)\n",
    "    \n",
    "# net = Net().to(device)\n",
    "# optimizer = torch.optim.Adam(net.parameters(), lr=0.02)"
   ]
  },
  {
   "cell_type": "code",
   "execution_count": 16,
   "id": "5fd048b8",
   "metadata": {
    "scrolled": false
   },
   "outputs": [
    {
     "data": {
      "application/vnd.jupyter.widget-view+json": {
       "model_id": "c7821b0e1c474ddc9d366266f0fa8184",
       "version_major": 2,
       "version_minor": 0
      },
      "text/plain": [
       "  0%|          | 0/100 [00:00<?, ?it/s]"
      ]
     },
     "metadata": {},
     "output_type": "display_data"
    }
   ],
   "source": [
    "n_epochs = 100\n",
    "t = tqdm(range(0, n_epochs))"
   ]
  },
  {
   "cell_type": "code",
   "execution_count": 17,
   "id": "a6d344b1",
   "metadata": {
    "scrolled": true
   },
   "outputs": [
    {
     "data": {
      "application/vnd.jupyter.widget-view+json": {
       "model_id": "",
       "version_major": 2,
       "version_minor": 0
      },
      "text/plain": [
       "  0%|          | 0/25.0 [00:00<?, ?it/s]"
      ]
     },
     "metadata": {},
     "output_type": "display_data"
    },
    {
     "data": {
      "application/vnd.jupyter.widget-view+json": {
       "model_id": "",
       "version_major": 2,
       "version_minor": 0
      },
      "text/plain": [
       "  0%|          | 0/6.25 [00:00<?, ?it/s]"
      ]
     },
     "metadata": {},
     "output_type": "display_data"
    },
    {
     "name": "stdout",
     "output_type": "stream",
     "text": [
      "New best model saved to: simplenetwork_best.pt\n",
      "At epoch 0, training loss: 11839.8590234375 and validation loss: 10351.761788504464\n"
     ]
    },
    {
     "data": {
      "application/vnd.jupyter.widget-view+json": {
       "model_id": "",
       "version_major": 2,
       "version_minor": 0
      },
      "text/plain": [
       "  0%|          | 0/25.0 [00:00<?, ?it/s]"
      ]
     },
     "metadata": {},
     "output_type": "display_data"
    },
    {
     "data": {
      "application/vnd.jupyter.widget-view+json": {
       "model_id": "",
       "version_major": 2,
       "version_minor": 0
      },
      "text/plain": [
       "  0%|          | 0/6.25 [00:00<?, ?it/s]"
      ]
     },
     "metadata": {},
     "output_type": "display_data"
    },
    {
     "name": "stdout",
     "output_type": "stream",
     "text": [
      "New best model saved to: simplenetwork_best.pt\n",
      "At epoch 1, training loss: 9383.45208984375 and validation loss: 8085.454310825893\n"
     ]
    },
    {
     "data": {
      "application/vnd.jupyter.widget-view+json": {
       "model_id": "",
       "version_major": 2,
       "version_minor": 0
      },
      "text/plain": [
       "  0%|          | 0/25.0 [00:00<?, ?it/s]"
      ]
     },
     "metadata": {},
     "output_type": "display_data"
    },
    {
     "data": {
      "application/vnd.jupyter.widget-view+json": {
       "model_id": "",
       "version_major": 2,
       "version_minor": 0
      },
      "text/plain": [
       "  0%|          | 0/6.25 [00:00<?, ?it/s]"
      ]
     },
     "metadata": {},
     "output_type": "display_data"
    },
    {
     "name": "stdout",
     "output_type": "stream",
     "text": [
      "At epoch 2, training loss: 6996.67068359375 and validation loss: 8324.517647879464\n"
     ]
    },
    {
     "data": {
      "application/vnd.jupyter.widget-view+json": {
       "model_id": "",
       "version_major": 2,
       "version_minor": 0
      },
      "text/plain": [
       "  0%|          | 0/25.0 [00:00<?, ?it/s]"
      ]
     },
     "metadata": {},
     "output_type": "display_data"
    },
    {
     "data": {
      "application/vnd.jupyter.widget-view+json": {
       "model_id": "",
       "version_major": 2,
       "version_minor": 0
      },
      "text/plain": [
       "  0%|          | 0/6.25 [00:00<?, ?it/s]"
      ]
     },
     "metadata": {},
     "output_type": "display_data"
    },
    {
     "name": "stdout",
     "output_type": "stream",
     "text": [
      "New best model saved to: simplenetwork_best.pt\n",
      "At epoch 3, training loss: 7060.36953125 and validation loss: 6995.17742047991\n"
     ]
    },
    {
     "data": {
      "application/vnd.jupyter.widget-view+json": {
       "model_id": "",
       "version_major": 2,
       "version_minor": 0
      },
      "text/plain": [
       "  0%|          | 0/25.0 [00:00<?, ?it/s]"
      ]
     },
     "metadata": {},
     "output_type": "display_data"
    },
    {
     "data": {
      "application/vnd.jupyter.widget-view+json": {
       "model_id": "",
       "version_major": 2,
       "version_minor": 0
      },
      "text/plain": [
       "  0%|          | 0/6.25 [00:00<?, ?it/s]"
      ]
     },
     "metadata": {},
     "output_type": "display_data"
    },
    {
     "name": "stdout",
     "output_type": "stream",
     "text": [
      "New best model saved to: simplenetwork_best.pt\n",
      "At epoch 4, training loss: 6289.013291015625 and validation loss: 6732.804547991072\n"
     ]
    },
    {
     "data": {
      "application/vnd.jupyter.widget-view+json": {
       "model_id": "",
       "version_major": 2,
       "version_minor": 0
      },
      "text/plain": [
       "  0%|          | 0/25.0 [00:00<?, ?it/s]"
      ]
     },
     "metadata": {},
     "output_type": "display_data"
    },
    {
     "data": {
      "application/vnd.jupyter.widget-view+json": {
       "model_id": "",
       "version_major": 2,
       "version_minor": 0
      },
      "text/plain": [
       "  0%|          | 0/6.25 [00:00<?, ?it/s]"
      ]
     },
     "metadata": {},
     "output_type": "display_data"
    },
    {
     "name": "stdout",
     "output_type": "stream",
     "text": [
      "At epoch 5, training loss: 6243.332607421875 and validation loss: 7104.295061383928\n"
     ]
    },
    {
     "data": {
      "application/vnd.jupyter.widget-view+json": {
       "model_id": "",
       "version_major": 2,
       "version_minor": 0
      },
      "text/plain": [
       "  0%|          | 0/25.0 [00:00<?, ?it/s]"
      ]
     },
     "metadata": {},
     "output_type": "display_data"
    },
    {
     "data": {
      "application/vnd.jupyter.widget-view+json": {
       "model_id": "",
       "version_major": 2,
       "version_minor": 0
      },
      "text/plain": [
       "  0%|          | 0/6.25 [00:00<?, ?it/s]"
      ]
     },
     "metadata": {},
     "output_type": "display_data"
    },
    {
     "name": "stdout",
     "output_type": "stream",
     "text": [
      "New best model saved to: simplenetwork_best.pt\n",
      "At epoch 6, training loss: 6163.97123046875 and validation loss: 6495.308035714285\n"
     ]
    },
    {
     "data": {
      "application/vnd.jupyter.widget-view+json": {
       "model_id": "",
       "version_major": 2,
       "version_minor": 0
      },
      "text/plain": [
       "  0%|          | 0/25.0 [00:00<?, ?it/s]"
      ]
     },
     "metadata": {},
     "output_type": "display_data"
    },
    {
     "data": {
      "application/vnd.jupyter.widget-view+json": {
       "model_id": "",
       "version_major": 2,
       "version_minor": 0
      },
      "text/plain": [
       "  0%|          | 0/6.25 [00:00<?, ?it/s]"
      ]
     },
     "metadata": {},
     "output_type": "display_data"
    },
    {
     "name": "stdout",
     "output_type": "stream",
     "text": [
      "At epoch 7, training loss: 6057.7912109375 and validation loss: 17130.738420758928\n"
     ]
    },
    {
     "data": {
      "application/vnd.jupyter.widget-view+json": {
       "model_id": "",
       "version_major": 2,
       "version_minor": 0
      },
      "text/plain": [
       "  0%|          | 0/25.0 [00:00<?, ?it/s]"
      ]
     },
     "metadata": {},
     "output_type": "display_data"
    },
    {
     "data": {
      "application/vnd.jupyter.widget-view+json": {
       "model_id": "",
       "version_major": 2,
       "version_minor": 0
      },
      "text/plain": [
       "  0%|          | 0/6.25 [00:00<?, ?it/s]"
      ]
     },
     "metadata": {},
     "output_type": "display_data"
    },
    {
     "name": "stdout",
     "output_type": "stream",
     "text": [
      "At epoch 8, training loss: 6033.10720703125 and validation loss: 9268.856828962054\n"
     ]
    },
    {
     "data": {
      "application/vnd.jupyter.widget-view+json": {
       "model_id": "",
       "version_major": 2,
       "version_minor": 0
      },
      "text/plain": [
       "  0%|          | 0/25.0 [00:00<?, ?it/s]"
      ]
     },
     "metadata": {},
     "output_type": "display_data"
    },
    {
     "data": {
      "application/vnd.jupyter.widget-view+json": {
       "model_id": "",
       "version_major": 2,
       "version_minor": 0
      },
      "text/plain": [
       "  0%|          | 0/6.25 [00:00<?, ?it/s]"
      ]
     },
     "metadata": {},
     "output_type": "display_data"
    },
    {
     "name": "stdout",
     "output_type": "stream",
     "text": [
      "At epoch 9, training loss: 6040.101640625 and validation loss: 28300.545479910714\n"
     ]
    },
    {
     "data": {
      "application/vnd.jupyter.widget-view+json": {
       "model_id": "",
       "version_major": 2,
       "version_minor": 0
      },
      "text/plain": [
       "  0%|          | 0/25.0 [00:00<?, ?it/s]"
      ]
     },
     "metadata": {},
     "output_type": "display_data"
    },
    {
     "data": {
      "application/vnd.jupyter.widget-view+json": {
       "model_id": "",
       "version_major": 2,
       "version_minor": 0
      },
      "text/plain": [
       "  0%|          | 0/6.25 [00:00<?, ?it/s]"
      ]
     },
     "metadata": {},
     "output_type": "display_data"
    },
    {
     "name": "stdout",
     "output_type": "stream",
     "text": [
      "At epoch 10, training loss: 6050.05064453125 and validation loss: 300743.26116071426\n"
     ]
    },
    {
     "data": {
      "application/vnd.jupyter.widget-view+json": {
       "model_id": "",
       "version_major": 2,
       "version_minor": 0
      },
      "text/plain": [
       "  0%|          | 0/25.0 [00:00<?, ?it/s]"
      ]
     },
     "metadata": {},
     "output_type": "display_data"
    },
    {
     "data": {
      "application/vnd.jupyter.widget-view+json": {
       "model_id": "",
       "version_major": 2,
       "version_minor": 0
      },
      "text/plain": [
       "  0%|          | 0/6.25 [00:00<?, ?it/s]"
      ]
     },
     "metadata": {},
     "output_type": "display_data"
    },
    {
     "name": "stdout",
     "output_type": "stream",
     "text": [
      "At epoch 11, training loss: 6084.50947265625 and validation loss: 9908.18017578125\n"
     ]
    },
    {
     "data": {
      "application/vnd.jupyter.widget-view+json": {
       "model_id": "",
       "version_major": 2,
       "version_minor": 0
      },
      "text/plain": [
       "  0%|          | 0/25.0 [00:00<?, ?it/s]"
      ]
     },
     "metadata": {},
     "output_type": "display_data"
    },
    {
     "data": {
      "application/vnd.jupyter.widget-view+json": {
       "model_id": "",
       "version_major": 2,
       "version_minor": 0
      },
      "text/plain": [
       "  0%|          | 0/6.25 [00:00<?, ?it/s]"
      ]
     },
     "metadata": {},
     "output_type": "display_data"
    },
    {
     "name": "stdout",
     "output_type": "stream",
     "text": [
      "At epoch 12, training loss: 6092.20119140625 and validation loss: 6571.326241629465\n"
     ]
    },
    {
     "data": {
      "application/vnd.jupyter.widget-view+json": {
       "model_id": "",
       "version_major": 2,
       "version_minor": 0
      },
      "text/plain": [
       "  0%|          | 0/25.0 [00:00<?, ?it/s]"
      ]
     },
     "metadata": {},
     "output_type": "display_data"
    },
    {
     "data": {
      "application/vnd.jupyter.widget-view+json": {
       "model_id": "",
       "version_major": 2,
       "version_minor": 0
      },
      "text/plain": [
       "  0%|          | 0/6.25 [00:00<?, ?it/s]"
      ]
     },
     "metadata": {},
     "output_type": "display_data"
    },
    {
     "name": "stdout",
     "output_type": "stream",
     "text": [
      "At epoch 13, training loss: 6070.4090625 and validation loss: 7208.606584821428\n"
     ]
    },
    {
     "data": {
      "application/vnd.jupyter.widget-view+json": {
       "model_id": "",
       "version_major": 2,
       "version_minor": 0
      },
      "text/plain": [
       "  0%|          | 0/25.0 [00:00<?, ?it/s]"
      ]
     },
     "metadata": {},
     "output_type": "display_data"
    },
    {
     "data": {
      "application/vnd.jupyter.widget-view+json": {
       "model_id": "",
       "version_major": 2,
       "version_minor": 0
      },
      "text/plain": [
       "  0%|          | 0/6.25 [00:00<?, ?it/s]"
      ]
     },
     "metadata": {},
     "output_type": "display_data"
    },
    {
     "name": "stdout",
     "output_type": "stream",
     "text": [
      "At epoch 14, training loss: 6025.1180078125 and validation loss: 6845.912667410715\n"
     ]
    },
    {
     "data": {
      "application/vnd.jupyter.widget-view+json": {
       "model_id": "",
       "version_major": 2,
       "version_minor": 0
      },
      "text/plain": [
       "  0%|          | 0/25.0 [00:00<?, ?it/s]"
      ]
     },
     "metadata": {},
     "output_type": "display_data"
    },
    {
     "data": {
      "application/vnd.jupyter.widget-view+json": {
       "model_id": "",
       "version_major": 2,
       "version_minor": 0
      },
      "text/plain": [
       "  0%|          | 0/6.25 [00:00<?, ?it/s]"
      ]
     },
     "metadata": {},
     "output_type": "display_data"
    },
    {
     "name": "stdout",
     "output_type": "stream",
     "text": [
      "At epoch 15, training loss: 6064.147763671875 and validation loss: 6509.525599888393\n"
     ]
    },
    {
     "data": {
      "application/vnd.jupyter.widget-view+json": {
       "model_id": "",
       "version_major": 2,
       "version_minor": 0
      },
      "text/plain": [
       "  0%|          | 0/25.0 [00:00<?, ?it/s]"
      ]
     },
     "metadata": {},
     "output_type": "display_data"
    },
    {
     "data": {
      "application/vnd.jupyter.widget-view+json": {
       "model_id": "",
       "version_major": 2,
       "version_minor": 0
      },
      "text/plain": [
       "  0%|          | 0/6.25 [00:00<?, ?it/s]"
      ]
     },
     "metadata": {},
     "output_type": "display_data"
    },
    {
     "name": "stdout",
     "output_type": "stream",
     "text": [
      "At epoch 16, training loss: 6054.918173828125 and validation loss: 6561.987862723215\n"
     ]
    },
    {
     "data": {
      "application/vnd.jupyter.widget-view+json": {
       "model_id": "",
       "version_major": 2,
       "version_minor": 0
      },
      "text/plain": [
       "  0%|          | 0/25.0 [00:00<?, ?it/s]"
      ]
     },
     "metadata": {},
     "output_type": "display_data"
    },
    {
     "data": {
      "application/vnd.jupyter.widget-view+json": {
       "model_id": "",
       "version_major": 2,
       "version_minor": 0
      },
      "text/plain": [
       "  0%|          | 0/6.25 [00:00<?, ?it/s]"
      ]
     },
     "metadata": {},
     "output_type": "display_data"
    },
    {
     "name": "stdout",
     "output_type": "stream",
     "text": [
      "At epoch 17, training loss: 6047.575068359375 and validation loss: 6662.413678850447\n"
     ]
    },
    {
     "data": {
      "application/vnd.jupyter.widget-view+json": {
       "model_id": "",
       "version_major": 2,
       "version_minor": 0
      },
      "text/plain": [
       "  0%|          | 0/25.0 [00:00<?, ?it/s]"
      ]
     },
     "metadata": {},
     "output_type": "display_data"
    },
    {
     "data": {
      "application/vnd.jupyter.widget-view+json": {
       "model_id": "",
       "version_major": 2,
       "version_minor": 0
      },
      "text/plain": [
       "  0%|          | 0/6.25 [00:00<?, ?it/s]"
      ]
     },
     "metadata": {},
     "output_type": "display_data"
    },
    {
     "name": "stdout",
     "output_type": "stream",
     "text": [
      "At epoch 18, training loss: 6051.5651171875 and validation loss: 6767.46142578125\n"
     ]
    },
    {
     "data": {
      "application/vnd.jupyter.widget-view+json": {
       "model_id": "",
       "version_major": 2,
       "version_minor": 0
      },
      "text/plain": [
       "  0%|          | 0/25.0 [00:00<?, ?it/s]"
      ]
     },
     "metadata": {},
     "output_type": "display_data"
    },
    {
     "data": {
      "application/vnd.jupyter.widget-view+json": {
       "model_id": "",
       "version_major": 2,
       "version_minor": 0
      },
      "text/plain": [
       "  0%|          | 0/6.25 [00:00<?, ?it/s]"
      ]
     },
     "metadata": {},
     "output_type": "display_data"
    },
    {
     "name": "stdout",
     "output_type": "stream",
     "text": [
      "New best model saved to: simplenetwork_best.pt\n",
      "At epoch 19, training loss: 6034.015234375 and validation loss: 6374.771833147322\n"
     ]
    },
    {
     "data": {
      "application/vnd.jupyter.widget-view+json": {
       "model_id": "",
       "version_major": 2,
       "version_minor": 0
      },
      "text/plain": [
       "  0%|          | 0/25.0 [00:00<?, ?it/s]"
      ]
     },
     "metadata": {},
     "output_type": "display_data"
    },
    {
     "data": {
      "application/vnd.jupyter.widget-view+json": {
       "model_id": "",
       "version_major": 2,
       "version_minor": 0
      },
      "text/plain": [
       "  0%|          | 0/6.25 [00:00<?, ?it/s]"
      ]
     },
     "metadata": {},
     "output_type": "display_data"
    },
    {
     "name": "stdout",
     "output_type": "stream",
     "text": [
      "At epoch 20, training loss: 5999.30515625 and validation loss: 10141.476283482143\n"
     ]
    },
    {
     "data": {
      "application/vnd.jupyter.widget-view+json": {
       "model_id": "",
       "version_major": 2,
       "version_minor": 0
      },
      "text/plain": [
       "  0%|          | 0/25.0 [00:00<?, ?it/s]"
      ]
     },
     "metadata": {},
     "output_type": "display_data"
    },
    {
     "data": {
      "application/vnd.jupyter.widget-view+json": {
       "model_id": "",
       "version_major": 2,
       "version_minor": 0
      },
      "text/plain": [
       "  0%|          | 0/6.25 [00:00<?, ?it/s]"
      ]
     },
     "metadata": {},
     "output_type": "display_data"
    },
    {
     "name": "stdout",
     "output_type": "stream",
     "text": [
      "At epoch 21, training loss: 6074.127890625 and validation loss: 9187.270228794643\n"
     ]
    },
    {
     "data": {
      "application/vnd.jupyter.widget-view+json": {
       "model_id": "",
       "version_major": 2,
       "version_minor": 0
      },
      "text/plain": [
       "  0%|          | 0/25.0 [00:00<?, ?it/s]"
      ]
     },
     "metadata": {},
     "output_type": "display_data"
    },
    {
     "data": {
      "application/vnd.jupyter.widget-view+json": {
       "model_id": "",
       "version_major": 2,
       "version_minor": 0
      },
      "text/plain": [
       "  0%|          | 0/6.25 [00:00<?, ?it/s]"
      ]
     },
     "metadata": {},
     "output_type": "display_data"
    },
    {
     "name": "stdout",
     "output_type": "stream",
     "text": [
      "At epoch 22, training loss: 5961.12373046875 and validation loss: 15772.41782924107\n"
     ]
    },
    {
     "data": {
      "application/vnd.jupyter.widget-view+json": {
       "model_id": "",
       "version_major": 2,
       "version_minor": 0
      },
      "text/plain": [
       "  0%|          | 0/25.0 [00:00<?, ?it/s]"
      ]
     },
     "metadata": {},
     "output_type": "display_data"
    },
    {
     "data": {
      "application/vnd.jupyter.widget-view+json": {
       "model_id": "",
       "version_major": 2,
       "version_minor": 0
      },
      "text/plain": [
       "  0%|          | 0/6.25 [00:00<?, ?it/s]"
      ]
     },
     "metadata": {},
     "output_type": "display_data"
    },
    {
     "name": "stdout",
     "output_type": "stream",
     "text": [
      "At epoch 23, training loss: 5954.00162109375 and validation loss: 7494.372349330357\n"
     ]
    },
    {
     "data": {
      "application/vnd.jupyter.widget-view+json": {
       "model_id": "",
       "version_major": 2,
       "version_minor": 0
      },
      "text/plain": [
       "  0%|          | 0/25.0 [00:00<?, ?it/s]"
      ]
     },
     "metadata": {},
     "output_type": "display_data"
    },
    {
     "data": {
      "application/vnd.jupyter.widget-view+json": {
       "model_id": "",
       "version_major": 2,
       "version_minor": 0
      },
      "text/plain": [
       "  0%|          | 0/6.25 [00:00<?, ?it/s]"
      ]
     },
     "metadata": {},
     "output_type": "display_data"
    },
    {
     "name": "stdout",
     "output_type": "stream",
     "text": [
      "At epoch 24, training loss: 6034.7753125 and validation loss: 7378.54474748884\n"
     ]
    },
    {
     "data": {
      "application/vnd.jupyter.widget-view+json": {
       "model_id": "",
       "version_major": 2,
       "version_minor": 0
      },
      "text/plain": [
       "  0%|          | 0/25.0 [00:00<?, ?it/s]"
      ]
     },
     "metadata": {},
     "output_type": "display_data"
    },
    {
     "data": {
      "application/vnd.jupyter.widget-view+json": {
       "model_id": "",
       "version_major": 2,
       "version_minor": 0
      },
      "text/plain": [
       "  0%|          | 0/6.25 [00:00<?, ?it/s]"
      ]
     },
     "metadata": {},
     "output_type": "display_data"
    },
    {
     "name": "stdout",
     "output_type": "stream",
     "text": [
      "At epoch 25, training loss: 6041.144951171875 and validation loss: 6859.568289620535\n"
     ]
    },
    {
     "data": {
      "application/vnd.jupyter.widget-view+json": {
       "model_id": "",
       "version_major": 2,
       "version_minor": 0
      },
      "text/plain": [
       "  0%|          | 0/25.0 [00:00<?, ?it/s]"
      ]
     },
     "metadata": {},
     "output_type": "display_data"
    },
    {
     "data": {
      "application/vnd.jupyter.widget-view+json": {
       "model_id": "",
       "version_major": 2,
       "version_minor": 0
      },
      "text/plain": [
       "  0%|          | 0/6.25 [00:00<?, ?it/s]"
      ]
     },
     "metadata": {},
     "output_type": "display_data"
    },
    {
     "name": "stdout",
     "output_type": "stream",
     "text": [
      "At epoch 26, training loss: 6033.37609375 and validation loss: 6465.765485491072\n"
     ]
    },
    {
     "data": {
      "application/vnd.jupyter.widget-view+json": {
       "model_id": "",
       "version_major": 2,
       "version_minor": 0
      },
      "text/plain": [
       "  0%|          | 0/25.0 [00:00<?, ?it/s]"
      ]
     },
     "metadata": {},
     "output_type": "display_data"
    },
    {
     "data": {
      "application/vnd.jupyter.widget-view+json": {
       "model_id": "",
       "version_major": 2,
       "version_minor": 0
      },
      "text/plain": [
       "  0%|          | 0/6.25 [00:00<?, ?it/s]"
      ]
     },
     "metadata": {},
     "output_type": "display_data"
    },
    {
     "name": "stdout",
     "output_type": "stream",
     "text": [
      "At epoch 27, training loss: 6056.362314453125 and validation loss: 8396.345772879464\n"
     ]
    }
   ],
   "source": [
    "# TRAINING CELL\n",
    "\n",
    "lst = []\n",
    "valid_lst = []\n",
    "best_vloss = float(np.inf)\n",
    "net = Net().to(device) # Model initialization\n",
    "optimizer = torch.optim.Adam(net.parameters(), lr=0.02)\n",
    "valid_pred_loss = float(np.inf)\n",
    "stopper = False\n",
    "\n",
    "for epoch in t:\n",
    "    if stopper:\n",
    "        break;\n",
    "    \n",
    "    p = tqdm(enumerate(train_loader), total=train_samples/batch_size, leave=bool(epoch==n_epochs-1))\n",
    "    q = tqdm(enumerate(valid_loader), total=valid_samples/batch_size, leave=bool(epoch==n_epochs-1))\n",
    "    \n",
    "    loss_func = nn.MSELoss() # Mean Squared Error to track learning \n",
    "    if (epoch > 0) & (os.path.exists('simplenetwork_best.pt')):\n",
    "        # We restore the weights configured for the model from first epoch\n",
    "        net.load_state_dict(torch.load('simplenetwork_best.pt'))\n",
    "\n",
    "    temp = []\n",
    "    valid_temp = []\n",
    "    net.train() # Training starts\n",
    "#     net.eval() # IDK\n",
    "    for i, data in p:\n",
    "        data = data.to(device) # Moving data to memory\n",
    "        y = data.y # Retrieving target variable\n",
    "        prediction = net(data.x, data.batch) # `data` being used here should be validation set\n",
    "        loss = loss_func(prediction.float(), y.float()) # Will this be training loss or validation loss\n",
    "        temp.append(loss.item())\n",
    "        \n",
    "        optimizer.zero_grad()\n",
    "        loss.backward()\n",
    "        optimizer.step() # Updating optimizer\n",
    "    \n",
    "    batch_loss = np.average(temp)\n",
    "    lst.append(batch_loss)\n",
    "#     valid_batch_loss = np.average(valid_temp)\n",
    "#     valid_lst.append(valid_batch_loss)\n",
    "    \n",
    "    net.eval(); # Validation starts\n",
    "    for j, vdata in q:\n",
    "        vdata = vdata.to(device)\n",
    "        y = vdata.y\n",
    "        vpreds = net(vdata.x, vdata.batch)\n",
    "        vloss = loss_func(vpreds.float(), y.float())\n",
    "        \n",
    "        valid_temp.append(vloss.item())\n",
    "        \n",
    "    batch_vloss = np.average(valid_temp)\n",
    "    valid_lst.append(batch_vloss)\n",
    "    \n",
    "    if batch_vloss < best_vloss:\n",
    "        best_vloss = batch_vloss\n",
    "        modpath = os.path.join('simplenetwork_best.pt')\n",
    "        print('New best model saved to:',modpath)\n",
    "        torch.save(net.state_dict(),modpath)\n",
    "    \n",
    "    if (epoch > 25) & (batch_vloss > valid_pred_loss):\n",
    "        stopper = True\n",
    "    else:\n",
    "        valid_pred_loss = batch_vloss\n",
    "        \n",
    "    print(f'At epoch {epoch}, training loss: {batch_loss} and validation loss: {batch_vloss}')"
   ]
  },
  {
   "cell_type": "code",
   "execution_count": 15,
   "id": "e56764fc",
   "metadata": {
    "scrolled": true
   },
   "outputs": [
    {
     "data": {
      "image/png": "[encoded data removed]",
      "text/plain": [
       "<Figure size 1296x864 with 1 Axes>"
      ]
     },
     "metadata": {},
     "output_type": "display_data"
    }
   ],
   "source": [
    "valid_rmse = [np.sqrt(x) for x in valid_lst]\n",
    "train_rmse = [np.sqrt(x) for x in lst]\n",
    "epoch = [x+1 for x in range(len(valid_rmse))]\n",
    "\n",
    "fig = plt.figure(figsize=(18,12))\n",
    "ax = fig.gca()\n",
    "_ = sns.set(context='notebook',\n",
    "           rc={'axes.spines.right':False,\n",
    "              'axes.spines.top':False},\n",
    "           style='white')\n",
    "\n",
    "sns.lineplot(x=epoch, y=train_rmse, color='blue', ax=ax)\n",
    "sns.lineplot(x=epoch, y=valid_rmse, color='orange', ax=ax);"
   ]
  },
  {
   "cell_type": "code",
   "execution_count": 28,
   "id": "f876d856",
   "metadata": {},
   "outputs": [],
   "source": [
    "def plotter(lst):\n",
    "    x = range(1, len(lst)+1, 1)\n",
    "    fig = plt.figure(figsize=(18,12))\n",
    "    ax = fig.gca()\n",
    "    \n",
    "    ax = sns.lineplot(x, lst, color='blue', alpha=0.4)\n",
    "    return ax"
   ]
  },
  {
   "cell_type": "code",
   "execution_count": null,
   "id": "3bd69dec",
   "metadata": {},
   "outputs": [],
   "source": []
  },
  {
   "cell_type": "code",
   "execution_count": 19,
   "id": "ae74019b",
   "metadata": {
    "scrolled": false
   },
   "outputs": [
    {
     "data": {
      "text/plain": [
       "[11160.4033203125,\n",
       " 8758.598074776786,\n",
       " 7645.519670758928,\n",
       " 78983.14006696429,\n",
       " 6885.562430245535,\n",
       " 7319.102748325893,\n",
       " 7174.56689453125,\n",
       " 6966.092075892857,\n",
       " 6902.305524553572,\n",
       " 6925.738490513393,\n",
       " 6873.183384486607,\n",
       " 7118.124720982143,\n",
       " 6889.022739955357,\n",
       " 15650.512276785714,\n",
       " 18875.720842633928,\n",
       " 7341.510881696428,\n",
       " 18782.91378348214,\n",
       " 9595.91734095982,\n",
       " 8398.705984933036,\n",
       " 7544.740792410715,\n",
       " 15934.193917410714,\n",
       " 10264.262765066964,\n",
       " 8015.349958147322,\n",
       " 17041.793108258928,\n",
       " 18500.4853515625,\n",
       " 9021.55894252232,\n",
       " 11145.91810825893,\n",
       " 10198.635184151786,\n",
       " 23499.10770089286,\n",
       " 6857.651436941965,\n",
       " 8670.710170200893,\n",
       " 8459.208984375,\n",
       " 14277.93247767857]"
      ]
     },
     "execution_count": 19,
     "metadata": {},
     "output_type": "execute_result"
    }
   ],
   "source": [
    "valid_lst"
   ]
  },
  {
   "cell_type": "code",
   "execution_count": 20,
   "id": "c4a18b98",
   "metadata": {
    "collapsed": true
   },
   "outputs": [
    {
     "data": {
      "text/plain": [
       "[12282.66611328125,\n",
       " 9433.59458984375,\n",
       " 6854.222451171875,\n",
       " 6458.22736328125,\n",
       " 6318.6759765625,\n",
       " 6222.02669921875,\n",
       " 6185.950009765625,\n",
       " 6180.138134765625,\n",
       " 6156.358994140625,\n",
       " 6157.542236328125,\n",
       " 6120.89896484375,\n",
       " 6137.451328125,\n",
       " 6153.35154296875,\n",
       " 6079.714736328125,\n",
       " 6173.570234375,\n",
       " 6116.1234375,\n",
       " 6207.113798828125,\n",
       " 6213.8298828125,\n",
       " 6149.362626953125,\n",
       " 6265.271259765625,\n",
       " 6232.3587890625,\n",
       " 6158.836767578125,\n",
       " 6183.713798828125,\n",
       " 6185.32599609375,\n",
       " 6177.4544921875,\n",
       " 6160.747587890625,\n",
       " 6093.405322265625,\n",
       " 6185.21623046875,\n",
       " 6114.18236328125,\n",
       " 6178.040390625,\n",
       " 6152.511728515625,\n",
       " 6117.49541015625,\n",
       " 6112.967802734375]"
      ]
     },
     "execution_count": 20,
     "metadata": {},
     "output_type": "execute_result"
    }
   ],
   "source": [
    "lst"
   ]
  },
  {
   "cell_type": "code",
   "execution_count": 12,
   "id": "505a9e3b",
   "metadata": {},
   "outputs": [
    {
     "data": {
      "text/plain": [
       "[59568.73984375,\n",
       " 52791.26515625,\n",
       " 43150.436328125,\n",
       " 37705.73265625,\n",
       " 36400.33328125,\n",
       " 36588.056328125,\n",
       " 36163.061875,\n",
       " 36040.3215625]"
      ]
     },
     "execution_count": 12,
     "metadata": {},
     "output_type": "execute_result"
    }
   ],
   "source": [
    "lst"
   ]
  },
  {
   "cell_type": "code",
   "execution_count": 12,
   "id": "dfedacc9",
   "metadata": {
    "scrolled": true
   },
   "outputs": [
    {
     "data": {
      "text/plain": [
       "[11585.3248828125,\n",
       " 8948.7143359375,\n",
       " 6875.442177734375,\n",
       " 6342.92619140625,\n",
       " 6123.60416015625,\n",
       " 6060.99939453125,\n",
       " 6036.7575,\n",
       " 6005.0105859375]"
      ]
     },
     "execution_count": 12,
     "metadata": {},
     "output_type": "execute_result"
    }
   ],
   "source": [
    "lst"
   ]
  },
  {
   "cell_type": "code",
   "execution_count": 13,
   "id": "ba2cdf65",
   "metadata": {},
   "outputs": [
    {
     "data": {
      "text/plain": [
       "[107.63514706085786,\n",
       " 94.5976444523726,\n",
       " 82.91828614807699,\n",
       " 79.64248986192138,\n",
       " 78.25346101071985,\n",
       " 77.8524206080405,\n",
       " 77.69657328351103,\n",
       " 77.49200336768627]"
      ]
     },
     "execution_count": 13,
     "metadata": {},
     "output_type": "execute_result"
    }
   ],
   "source": [
    "[np.sqrt(x) for x in lst]"
   ]
  },
  {
   "cell_type": "markdown",
   "id": "850e6fe1",
   "metadata": {},
   "source": [
    "----"
   ]
  },
  {
   "cell_type": "code",
   "execution_count": null,
   "id": "ae4268be",
   "metadata": {},
   "outputs": [],
   "source": [
    "def test(net, data_loader, data_samples, batch_size, n_epochs):\n",
    "    net.eval()\n",
    "    t = tqdm(enumerate(data_loader), total=data_samples/batch_size, leave=bool(epoch==n_epochs-1))\n",
    "    loss_func = nn.L1Loss()\n",
    "    #track total loss, track batch mean, track number of batches\n",
    "    data_mean = 0\n",
    "    total_loss = 0\n",
    "    batches = 0\n",
    "    #\n",
    "    for i, data in t:\n",
    "        data = data.to(device)\n",
    "        y = data.y\n",
    "        prediction = net(data.x, data.batch)\n",
    "        loss = loss_func(prediction.float(), y.float())\n",
    "        # add batch mean to total, add loss\n",
    "        data_mean += torch.mean(data.x)\n",
    "        total_loss += loss\n",
    "        batches += 1\n",
    "        #\n",
    "        t.refresh()\n",
    "    return total_loss/(data_mean/batches)"
   ]
  },
  {
   "cell_type": "markdown",
   "id": "6ac1e131",
   "metadata": {},
   "source": [
    "## RUN THE WEIGHTED MODEL ON TEST SET"
   ]
  },
  {
   "cell_type": "code",
   "execution_count": null,
   "id": "a06b848d",
   "metadata": {},
   "outputs": [],
   "source": [
    "# Early stopper: When validation loss stops decreasing"
   ]
  },
  {
   "cell_type": "code",
   "execution_count": null,
   "id": "18ca722b",
   "metadata": {},
   "outputs": [],
   "source": [
    "inputs = 19\n",
    "hidden = 40\n",
    "outputs = 1\n",
    "\n",
    "class Edge(torch.nn.Module):\n",
    "    def __init__:\n",
    "    def forward():\n",
    "        \n",
    "class NodeBlock(torch.nn.Module):\n",
    "    def __init__:\n",
    "    def forward():\n",
    "        \n",
    "class GlobalBlock(torch.nn.Module):\n",
    "    def __init__:\n",
    "    def forward():\n",
    "        \n",
    "class InteractionNetwork(torch.nn.Module):\n",
    "    def __init__:\n",
    "    def forward():\n",
    "        "
   ]
  },
  {
   "cell_type": "code",
   "execution_count": null,
   "id": "7ed1903b",
   "metadata": {
    "scrolled": true
   },
   "outputs": [],
   "source": [
    "test_files = [\"/home/h8lee/teams/DSC180A_FA21_A00/a11/test_mass_hbb/BulkGravitonToHHTo4Q_MX-600to6000_MH-15to250_part1_TuneCP5_13TeV-madgraph_pythia8/nano_mc2017_3-10_Skim.root\"]\n",
    "#delete old processed files\n",
    "dir_path = '/home/h8lee/DSC180B-A11-Project/test/'\n",
    "try:\n",
    "    shutil.rmtree(dir_path)\n",
    "except OSError as e:\n",
    "    print(\"Error: %s : %s\" % (dir_path, e.strerror))\n",
    "test_dataset = GraphDataset(dir_path, features, labels, spectators, n_events=2000, n_events_merge=1, \n",
    "                            file_names=test_files)\n",
    "\n",
    "test_loader = DataListLoader(test_dataset, batch_size=batch_size, pin_memory=True, shuffle=False)\n",
    "test_loader.collate_fn = collate\n",
    "test_samples = len(test_dataset)"
   ]
  },
  {
   "cell_type": "code",
   "execution_count": null,
   "id": "680977f0",
   "metadata": {},
   "outputs": [],
   "source": [
    "y_test = []\n",
    "y_predict = []\n",
    "t = tqdm(enumerate(test_loader), total=train_samples/batch_size, leave=bool(epoch==n_epochs-1))\n",
    "for i,data in t:\n",
    "    data = data.to(device)    \n",
    "    batch_output = net(data.x, data.batch)    \n",
    "    y_predict.append(batch_output.detach().cpu().numpy())\n",
    "    y_test.append(data.y.cpu().numpy())\n",
    "y_test = np.concatenate(y_test)\n",
    "y_predict = np.concatenate(y_predict)"
   ]
  },
  {
   "cell_type": "code",
   "execution_count": null,
   "id": "8753b37b",
   "metadata": {
    "scrolled": true
   },
   "outputs": [],
   "source": [
    "#rmse\n",
    "np.sqrt(np.mean((y_test - y_predict) ** 2))"
   ]
  },
  {
   "cell_type": "code",
   "execution_count": null,
   "id": "fae77fd0",
   "metadata": {
    "scrolled": true
   },
   "outputs": [],
   "source": []
  },
  {
   "cell_type": "code",
   "execution_count": null,
   "id": "9b7c0620",
   "metadata": {},
   "outputs": [],
   "source": []
  }
 ],
 "metadata": {
  "kernelspec": {
   "display_name": "Python 3",
   "language": "python",
   "name": "python3"
  },
  "language_info": {
   "codemirror_mode": {
    "name": "ipython",
    "version": 3
   },
   "file_extension": ".py",
   "mimetype": "text/x-python",
   "name": "python",
   "nbconvert_exporter": "python",
   "pygments_lexer": "ipython3",
   "version": "3.9.4"
  }
 },
 "nbformat": 4,
 "nbformat_minor": 5
}
