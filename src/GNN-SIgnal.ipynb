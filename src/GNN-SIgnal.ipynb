{
 "cells": [
  {
   "cell_type": "code",
   "execution_count": 1,
   "id": "7ecb9adb",
   "metadata": {
    "scrolled": true
   },
   "outputs": [],
   "source": [
    "%load_ext autoreload\n",
    "%autoreload 2"
   ]
  },
  {
   "cell_type": "code",
   "execution_count": 2,
   "id": "481461cb",
   "metadata": {},
   "outputs": [],
   "source": [
    "import torch\n",
    "import torch_geometric\n",
    "device =  torch.device(\"cuda:0\" if torch.cuda.is_available() else \"cpu\")\n",
    "from tqdm.notebook import tqdm\n",
    "import numpy as np\n",
    "import os\n",
    "import sys\n",
    "import os.path as osp\n",
    "import random\n",
    "\n",
    "root_file = \"/home/h8lee/DSC180B-A11-Project/src\""
   ]
  },
  {
   "cell_type": "code",
   "execution_count": 3,
   "id": "1cf5aee4",
   "metadata": {},
   "outputs": [],
   "source": [
    "import yaml\n",
    "\n",
    "with open(os.path.join(root_file, 'reg_defs.yml')) as file:\n",
    "    # The FullLoader parameter handles the conversion from YAML\n",
    "    # scalar values to Python the dictionary format\n",
    "    definitions = yaml.load(file, Loader=yaml.FullLoader)\n",
    "    \n",
    "features = definitions['features']\n",
    "spectators = definitions['spectators']\n",
    "labels = definitions['labels']\n",
    "\n",
    "nfeatures = definitions['nfeatures']\n",
    "# nspectators = definitions['nspectators']\n",
    "nlabels = definitions['nlabels']\n",
    "# ntracks = definitions['ntracks']"
   ]
  },
  {
   "cell_type": "code",
   "execution_count": 4,
   "id": "95075dd7",
   "metadata": {},
   "outputs": [],
   "source": [
    "import torch.nn as nn\n",
    "import torch.nn.functional as F\n",
    "import torch_geometric.transforms as T\n",
    "from torch_geometric.nn import EdgeConv, global_mean_pool\n",
    "from torch.nn import Sequential as Seq, Linear as Lin, ReLU, BatchNorm1d, Flatten, Module\n",
    "from torch_scatter import scatter_mean\n",
    "from torch_geometric.nn import MetaLayer"
   ]
  },
  {
   "cell_type": "code",
   "execution_count": 5,
   "id": "1ce77e49",
   "metadata": {},
   "outputs": [],
   "source": [
    "from torch_geometric.data import Data, DataListLoader, Batch\n",
    "from torch.utils.data import random_split\n",
    "import os.path as osp\n",
    "from GraphDataset import GraphDataset\n",
    "from load_data import path_generator\n",
    "import glob\n",
    "import shutil"
   ]
  },
  {
   "cell_type": "code",
   "execution_count": 7,
   "id": "12d595b7",
   "metadata": {
    "scrolled": true
   },
   "outputs": [],
   "source": [
    "train_files = random.sample(path_generator('signal', eda=False), 12)\n",
    "dir_path = '/home/h8lee/DSC180B-A11-Project'"
   ]
  },
  {
   "cell_type": "code",
   "execution_count": 8,
   "id": "69b9db54",
   "metadata": {},
   "outputs": [
    {
     "data": {
      "text/plain": [
       "['/home/h8lee/teams/DSC180A_FA21_A00/a11/train_mass_hbb/BulkGravitonToHHTo4Q_MX-600to6000_MH-15to250_part1_TuneCP5_13TeV-madgraph_pythia8/nano_mc2017_130_Skim.root',\n",
       " '/home/h8lee/teams/DSC180A_FA21_A00/a11/train_mass_hbb/BulkGravitonToHHTo4Q_MX-600to6000_MH-15to250_part1_TuneCP5_13TeV-madgraph_pythia8/nano_mc2017_2-67_Skim.root',\n",
       " '/home/h8lee/teams/DSC180A_FA21_A00/a11/train_mass_hbb/BulkGravitonToHHTo4Q_MX-600to6000_MH-15to250_part1_TuneCP5_13TeV-madgraph_pythia8/nano_mc2017_1-11_Skim.root',\n",
       " '/home/h8lee/teams/DSC180A_FA21_A00/a11/train_mass_hbb/BulkGravitonToHHTo4Q_MX-600to6000_MH-15to250_part1_TuneCP5_13TeV-madgraph_pythia8/nano_mc2017_2-129_Skim.root',\n",
       " '/home/h8lee/teams/DSC180A_FA21_A00/a11/train_mass_hbb/BulkGravitonToHHTo4Q_MX-600to6000_MH-15to250_part1_TuneCP5_13TeV-madgraph_pythia8/nano_mc2017_61_Skim.root',\n",
       " '/home/h8lee/teams/DSC180A_FA21_A00/a11/train_mass_hbb/BulkGravitonToHHTo4Q_MX-600to6000_MH-15to250_part1_TuneCP5_13TeV-madgraph_pythia8/nano_mc2017_1-142_Skim.root',\n",
       " '/home/h8lee/teams/DSC180A_FA21_A00/a11/train_mass_hbb/BulkGravitonToHHTo4Q_MX-600to6000_MH-15to250_part1_TuneCP5_13TeV-madgraph_pythia8/nano_mc2017_90_Skim.root',\n",
       " '/home/h8lee/teams/DSC180A_FA21_A00/a11/train_mass_hbb/BulkGravitonToHHTo4Q_MX-600to6000_MH-15to250_part1_TuneCP5_13TeV-madgraph_pythia8/nano_mc2017_116_Skim.root',\n",
       " '/home/h8lee/teams/DSC180A_FA21_A00/a11/train_mass_hbb/BulkGravitonToHHTo4Q_MX-600to6000_MH-15to250_part1_TuneCP5_13TeV-madgraph_pythia8/nano_mc2017_1-26_Skim.root',\n",
       " '/home/h8lee/teams/DSC180A_FA21_A00/a11/train_mass_hbb/BulkGravitonToHHTo4Q_MX-600to6000_MH-15to250_part1_TuneCP5_13TeV-madgraph_pythia8/nano_mc2017_1-30_Skim.root',\n",
       " '/home/h8lee/teams/DSC180A_FA21_A00/a11/train_mass_hbb/BulkGravitonToHHTo4Q_MX-600to6000_MH-15to250_part1_TuneCP5_13TeV-madgraph_pythia8/nano_mc2017_2-14_Skim.root',\n",
       " '/home/h8lee/teams/DSC180A_FA21_A00/a11/train_mass_hbb/BulkGravitonToHHTo4Q_MX-600to6000_MH-15to250_part1_TuneCP5_13TeV-madgraph_pythia8/nano_mc2017_166_Skim.root']"
      ]
     },
     "execution_count": 8,
     "metadata": {},
     "output_type": "execute_result"
    }
   ],
   "source": [
    "train_files"
   ]
  },
  {
   "cell_type": "code",
   "execution_count": 9,
   "id": "c240b24a",
   "metadata": {
    "scrolled": false
   },
   "outputs": [
    {
     "name": "stderr",
     "output_type": "stream",
     "text": [
      "Processing...\n"
     ]
    },
    {
     "data": {
      "application/vnd.jupyter.widget-view+json": {
       "model_id": "9fb2f1a2b13e4f66b158e917c604bb06",
       "version_major": 2,
       "version_minor": 0
      },
      "text/plain": [
       "  0%|          | 0/1000 [00:00<?, ?it/s]"
      ]
     },
     "metadata": {},
     "output_type": "display_data"
    },
    {
     "data": {
      "application/vnd.jupyter.widget-view+json": {
       "model_id": "b0f9bdbe67a647259083bd418545b2c9",
       "version_major": 2,
       "version_minor": 0
      },
      "text/plain": [
       "  0%|          | 0/1000 [00:00<?, ?it/s]"
      ]
     },
     "metadata": {},
     "output_type": "display_data"
    },
    {
     "data": {
      "application/vnd.jupyter.widget-view+json": {
       "model_id": "a2ad2ae20ba34106bb343aef139f6f16",
       "version_major": 2,
       "version_minor": 0
      },
      "text/plain": [
       "  0%|          | 0/1000 [00:00<?, ?it/s]"
      ]
     },
     "metadata": {},
     "output_type": "display_data"
    },
    {
     "data": {
      "application/vnd.jupyter.widget-view+json": {
       "model_id": "0699352afcdb400aaf265bd2b217d324",
       "version_major": 2,
       "version_minor": 0
      },
      "text/plain": [
       "  0%|          | 0/1000 [00:00<?, ?it/s]"
      ]
     },
     "metadata": {},
     "output_type": "display_data"
    },
    {
     "data": {
      "application/vnd.jupyter.widget-view+json": {
       "model_id": "8322cf6c15dc4d98bd5032c219e4c0cc",
       "version_major": 2,
       "version_minor": 0
      },
      "text/plain": [
       "  0%|          | 0/1000 [00:00<?, ?it/s]"
      ]
     },
     "metadata": {},
     "output_type": "display_data"
    },
    {
     "data": {
      "application/vnd.jupyter.widget-view+json": {
       "model_id": "4ac69180f06e41e19c776e414c0175b1",
       "version_major": 2,
       "version_minor": 0
      },
      "text/plain": [
       "  0%|          | 0/1000 [00:00<?, ?it/s]"
      ]
     },
     "metadata": {},
     "output_type": "display_data"
    },
    {
     "data": {
      "application/vnd.jupyter.widget-view+json": {
       "model_id": "94bbb5d9f7db4e75b6a98b0a58e2f239",
       "version_major": 2,
       "version_minor": 0
      },
      "text/plain": [
       "  0%|          | 0/1000 [00:00<?, ?it/s]"
      ]
     },
     "metadata": {},
     "output_type": "display_data"
    },
    {
     "data": {
      "application/vnd.jupyter.widget-view+json": {
       "model_id": "62545106700345f8921841b60bd2ae1c",
       "version_major": 2,
       "version_minor": 0
      },
      "text/plain": [
       "  0%|          | 0/1000 [00:00<?, ?it/s]"
      ]
     },
     "metadata": {},
     "output_type": "display_data"
    },
    {
     "data": {
      "application/vnd.jupyter.widget-view+json": {
       "model_id": "83d9bcd8bcc64583a9298ba568896c4b",
       "version_major": 2,
       "version_minor": 0
      },
      "text/plain": [
       "  0%|          | 0/1000 [00:00<?, ?it/s]"
      ]
     },
     "metadata": {},
     "output_type": "display_data"
    },
    {
     "data": {
      "application/vnd.jupyter.widget-view+json": {
       "model_id": "6af808a1754d4b0aa85a057121913ec1",
       "version_major": 2,
       "version_minor": 0
      },
      "text/plain": [
       "  0%|          | 0/1000 [00:00<?, ?it/s]"
      ]
     },
     "metadata": {},
     "output_type": "display_data"
    },
    {
     "data": {
      "application/vnd.jupyter.widget-view+json": {
       "model_id": "9f1fa79fea7045449cfce0e4ad2516d8",
       "version_major": 2,
       "version_minor": 0
      },
      "text/plain": [
       "  0%|          | 0/1000 [00:00<?, ?it/s]"
      ]
     },
     "metadata": {},
     "output_type": "display_data"
    },
    {
     "data": {
      "application/vnd.jupyter.widget-view+json": {
       "model_id": "48dbb30ff17b448f916a147ae6b49cc4",
       "version_major": 2,
       "version_minor": 0
      },
      "text/plain": [
       "  0%|          | 0/1000 [00:00<?, ?it/s]"
      ]
     },
     "metadata": {},
     "output_type": "display_data"
    },
    {
     "name": "stderr",
     "output_type": "stream",
     "text": [
      "Done!\n"
     ]
    }
   ],
   "source": [
    "# from RegDataGenerator import DataGenerator\n",
    "# train_files = ['/teams/DSC180A_FA21_A00/a11/train_mass_hbb/BulkGravitonToHHTo4Q_MX-600to6000_MH-15to250_part1_TuneCP5_13TeV-madgraph_pythia8/nano_mc2017_1-1_Skim.root']\n",
    "# dir_path = '/home/h8lee/DSC180B-A11-Project/'\n",
    "\n",
    "# Optimize runtime\n",
    "graph_dataset = GraphDataset(dir_path, features, labels, spectators, n_events=1000, n_events_merge=1, \n",
    "                             file_names= train_files)"
   ]
  },
  {
   "cell_type": "code",
   "execution_count": 12,
   "id": "042f58e8",
   "metadata": {},
   "outputs": [
    {
     "name": "stderr",
     "output_type": "stream",
     "text": [
      "/opt/conda/lib/python3.9/site-packages/torch_geometric/deprecation.py:13: UserWarning: 'data.DataListLoader' is deprecated, use 'loader.DataListLoader' instead\n",
      "  warnings.warn(out)\n"
     ]
    }
   ],
   "source": [
    "def collate(items):\n",
    "    l = sum(items, [])\n",
    "    return Batch.from_data_list(l)\n",
    "\n",
    "torch.manual_seed(0)\n",
    "valid_frac = 0.20\n",
    "full_length = len(graph_dataset)\n",
    "valid_num = int(valid_frac*full_length)\n",
    "batch_size = 32\n",
    "\n",
    "train_dataset, valid_dataset = random_split(graph_dataset, [full_length-valid_num,valid_num])\n",
    "\n",
    "train_loader = DataListLoader(train_dataset, batch_size=batch_size, pin_memory=True, shuffle=True)\n",
    "train_loader.collate_fn = collate\n",
    "valid_loader = DataListLoader(valid_dataset, batch_size=batch_size, pin_memory=True, shuffle=False)\n",
    "valid_loader.collate_fn = collate\n",
    "\n",
    "train_samples = len(train_dataset)\n",
    "valid_samples = len(valid_dataset)"
   ]
  },
  {
   "cell_type": "code",
   "execution_count": 13,
   "id": "1538c6ad",
   "metadata": {
    "scrolled": true
   },
   "outputs": [],
   "source": [
    "# Fixable\n",
    "\n",
    "class Net(nn.Module):\n",
    "    def __init__(self):\n",
    "        super(Net, self).__init__()\n",
    "        self.layer = Seq(Lin(30, 32),\n",
    "                         Lin(32, 64),\n",
    "                         BatchNorm1d(64),\n",
    "                         Lin(64, 32),\n",
    "                         BatchNorm1d(32),\n",
    "                         Lin(32, 32),\n",
    "                         BatchNorm1d(32),\n",
    "                         ReLU(),\n",
    "                         Lin(32,1))\n",
    "\n",
    "    def forward(self, x, batch):\n",
    "        out = scatter_mean(x, batch, dim=0)\n",
    "        return self.layer(out)\n",
    "    \n",
    "# net = Net().to(device)\n",
    "# optimizer = torch.optim.Adam(net.parameters(), lr=0.02)"
   ]
  },
  {
   "cell_type": "code",
   "execution_count": 14,
   "id": "5fd048b8",
   "metadata": {
    "scrolled": false
   },
   "outputs": [
    {
     "data": {
      "application/vnd.jupyter.widget-view+json": {
       "model_id": "a6f84b08f5d44f34becd02f6aaa9b183",
       "version_major": 2,
       "version_minor": 0
      },
      "text/plain": [
       "  0%|          | 0/8 [00:00<?, ?it/s]"
      ]
     },
     "metadata": {},
     "output_type": "display_data"
    }
   ],
   "source": [
    "n_epochs = 8\n",
    "t = tqdm(range(0, n_epochs))"
   ]
  },
  {
   "cell_type": "code",
   "execution_count": 15,
   "id": "a6d344b1",
   "metadata": {
    "scrolled": true
   },
   "outputs": [
    {
     "data": {
      "application/vnd.jupyter.widget-view+json": {
       "model_id": "",
       "version_major": 2,
       "version_minor": 0
      },
      "text/plain": [
       "  0%|          | 0/25.0 [00:00<?, ?it/s]"
      ]
     },
     "metadata": {},
     "output_type": "display_data"
    },
    {
     "name": "stdout",
     "output_type": "stream",
     "text": [
      "New best model saved to: simplenetwork_best.pt\n"
     ]
    },
    {
     "data": {
      "application/vnd.jupyter.widget-view+json": {
       "model_id": "",
       "version_major": 2,
       "version_minor": 0
      },
      "text/plain": [
       "  0%|          | 0/25.0 [00:00<?, ?it/s]"
      ]
     },
     "metadata": {},
     "output_type": "display_data"
    },
    {
     "name": "stdout",
     "output_type": "stream",
     "text": [
      "New best model saved to: simplenetwork_best.pt\n"
     ]
    },
    {
     "data": {
      "application/vnd.jupyter.widget-view+json": {
       "model_id": "",
       "version_major": 2,
       "version_minor": 0
      },
      "text/plain": [
       "  0%|          | 0/25.0 [00:00<?, ?it/s]"
      ]
     },
     "metadata": {},
     "output_type": "display_data"
    },
    {
     "name": "stdout",
     "output_type": "stream",
     "text": [
      "New best model saved to: simplenetwork_best.pt\n"
     ]
    },
    {
     "data": {
      "application/vnd.jupyter.widget-view+json": {
       "model_id": "",
       "version_major": 2,
       "version_minor": 0
      },
      "text/plain": [
       "  0%|          | 0/25.0 [00:00<?, ?it/s]"
      ]
     },
     "metadata": {},
     "output_type": "display_data"
    },
    {
     "name": "stdout",
     "output_type": "stream",
     "text": [
      "New best model saved to: simplenetwork_best.pt\n"
     ]
    },
    {
     "data": {
      "application/vnd.jupyter.widget-view+json": {
       "model_id": "",
       "version_major": 2,
       "version_minor": 0
      },
      "text/plain": [
       "  0%|          | 0/25.0 [00:00<?, ?it/s]"
      ]
     },
     "metadata": {},
     "output_type": "display_data"
    },
    {
     "name": "stdout",
     "output_type": "stream",
     "text": [
      "New best model saved to: simplenetwork_best.pt\n"
     ]
    },
    {
     "data": {
      "application/vnd.jupyter.widget-view+json": {
       "model_id": "",
       "version_major": 2,
       "version_minor": 0
      },
      "text/plain": [
       "  0%|          | 0/25.0 [00:00<?, ?it/s]"
      ]
     },
     "metadata": {},
     "output_type": "display_data"
    },
    {
     "name": "stdout",
     "output_type": "stream",
     "text": [
      "New best model saved to: simplenetwork_best.pt\n"
     ]
    },
    {
     "data": {
      "application/vnd.jupyter.widget-view+json": {
       "model_id": "",
       "version_major": 2,
       "version_minor": 0
      },
      "text/plain": [
       "  0%|          | 0/25.0 [00:00<?, ?it/s]"
      ]
     },
     "metadata": {},
     "output_type": "display_data"
    },
    {
     "name": "stdout",
     "output_type": "stream",
     "text": [
      "New best model saved to: simplenetwork_best.pt\n"
     ]
    },
    {
     "data": {
      "application/vnd.jupyter.widget-view+json": {
       "model_id": "f8375f7d85544672b83a21f2a3276a56",
       "version_major": 2,
       "version_minor": 0
      },
      "text/plain": [
       "  0%|          | 0/25.0 [00:00<?, ?it/s]"
      ]
     },
     "metadata": {},
     "output_type": "display_data"
    },
    {
     "name": "stdout",
     "output_type": "stream",
     "text": [
      "New best model saved to: simplenetwork_best.pt\n"
     ]
    }
   ],
   "source": [
    "lst = []\n",
    "best_loss = float(np.inf)\n",
    "net = Net().to(device) # Model initialization\n",
    "optimizer = torch.optim.Adam(net.parameters(), lr=0.02)\n",
    "\n",
    "for epoch in t:\n",
    "    p = tqdm(enumerate(train_loader), total=train_samples/batch_size, leave=bool(epoch==n_epochs-1)) # Are we only\n",
    "                                                                                                # using training set\n",
    "    loss_func = nn.MSELoss()\n",
    "    if (epoch > 0) & (os.path.exists('simplenetwork_best.pt')):\n",
    "        # We restore the weights configured for the model from first epoch\n",
    "        net.load_state_dict(torch.load('simplenetwork_best.pt'))\n",
    "\n",
    "    temp = []\n",
    "    net.train()\n",
    "    for i, data in p:\n",
    "        data = data.to(device) # Moving data to memory\n",
    "        y = data.y # Retrieving target variable\n",
    "        prediction = net(data.x, data.batch) # `data` being used here should be validation set\n",
    "        loss = loss_func(prediction.float(), y.float()) # Will this be training loss or validation loss\n",
    "        temp.append(loss.item())\n",
    "        \n",
    "        optimizer.zero_grad()\n",
    "        loss.backward()\n",
    "        optimizer.step() # Updating optimizer\n",
    "        \n",
    "    batch_loss = np.average(temp)\n",
    "    lst.append(batch_loss)\n",
    "    if batch_loss < best_loss:\n",
    "        best_loss = batch_loss\n",
    "        modpath = osp.join('simplenetwork_best.pt')\n",
    "        print('New best model saved to:',modpath)\n",
    "        torch.save(net.state_dict(),modpath)"
   ]
  },
  {
   "cell_type": "code",
   "execution_count": 16,
   "id": "2012dc6f",
   "metadata": {},
   "outputs": [
    {
     "data": {
      "text/plain": [
       "[32080.440244140624,\n",
       " 28007.71109375,\n",
       " 24508.260390625,\n",
       " 21787.5181640625,\n",
       " 21549.60525390625,\n",
       " 21474.535,\n",
       " 21195.399296875,\n",
       " 20758.62728515625]"
      ]
     },
     "execution_count": 16,
     "metadata": {},
     "output_type": "execute_result"
    }
   ],
   "source": [
    "lst"
   ]
  },
  {
   "cell_type": "code",
   "execution_count": 12,
   "id": "dfedacc9",
   "metadata": {
    "scrolled": true
   },
   "outputs": [
    {
     "data": {
      "text/plain": [
       "[11585.3248828125,\n",
       " 8948.7143359375,\n",
       " 6875.442177734375,\n",
       " 6342.92619140625,\n",
       " 6123.60416015625,\n",
       " 6060.99939453125,\n",
       " 6036.7575,\n",
       " 6005.0105859375]"
      ]
     },
     "execution_count": 12,
     "metadata": {},
     "output_type": "execute_result"
    }
   ],
   "source": [
    "lst"
   ]
  },
  {
   "cell_type": "code",
   "execution_count": 13,
   "id": "500b6255",
   "metadata": {},
   "outputs": [
    {
     "data": {
      "text/plain": [
       "[107.63514706085786,\n",
       " 94.5976444523726,\n",
       " 82.91828614807699,\n",
       " 79.64248986192138,\n",
       " 78.25346101071985,\n",
       " 77.8524206080405,\n",
       " 77.69657328351103,\n",
       " 77.49200336768627]"
      ]
     },
     "execution_count": 13,
     "metadata": {},
     "output_type": "execute_result"
    }
   ],
   "source": [
    "[np.sqrt(x) for x in lst]"
   ]
  },
  {
   "cell_type": "code",
   "execution_count": null,
   "id": "b56925c8",
   "metadata": {
    "scrolled": false
   },
   "outputs": [],
   "source": [
    "lst"
   ]
  },
  {
   "cell_type": "markdown",
   "id": "850e6fe1",
   "metadata": {},
   "source": [
    "----"
   ]
  },
  {
   "cell_type": "code",
   "execution_count": null,
   "id": "ae4268be",
   "metadata": {},
   "outputs": [],
   "source": [
    "def test(net, data_loader, data_samples, batch_size, n_epochs):\n",
    "    net.eval()\n",
    "    t = tqdm(enumerate(data_loader), total=data_samples/batch_size, leave=bool(epoch==n_epochs-1))\n",
    "    loss_func = nn.L1Loss()\n",
    "    #track total loss, track batch mean, track number of batches\n",
    "    data_mean = 0\n",
    "    total_loss = 0\n",
    "    batches = 0\n",
    "    #\n",
    "    for i, data in t:\n",
    "        data = data.to(device)\n",
    "        y = data.y\n",
    "        prediction = net(data.x, data.batch)\n",
    "        loss = loss_func(prediction.float(), y.float())\n",
    "        # add batch mean to total, add loss\n",
    "        data_mean += torch.mean(data.x)\n",
    "        total_loss += loss\n",
    "        batches += 1\n",
    "        #\n",
    "        t.refresh()\n",
    "    return total_loss/(data_mean/batches)"
   ]
  },
  {
   "cell_type": "markdown",
   "id": "6ac1e131",
   "metadata": {},
   "source": [
    "## RUN THE WEIGHTED MODEL ON TEST SET"
   ]
  },
  {
   "cell_type": "code",
   "execution_count": null,
   "id": "a06b848d",
   "metadata": {},
   "outputs": [],
   "source": [
    "# Early stopper: When validation loss stops decreasing"
   ]
  },
  {
   "cell_type": "code",
   "execution_count": null,
   "id": "18ca722b",
   "metadata": {},
   "outputs": [],
   "source": [
    "inputs = 19\n",
    "hidden = 40\n",
    "outputs = 1\n",
    "\n",
    "class Edge(torch.nn.Module):\n",
    "    def __init__:\n",
    "    def forward():\n",
    "        \n",
    "class NodeBlock(torch.nn.Module):\n",
    "    def __init__:\n",
    "    def forward():\n",
    "        \n",
    "class GlobalBlock(torch.nn.Module):\n",
    "    def __init__:\n",
    "    def forward():\n",
    "        \n",
    "class InteractionNetwork(torch.nn.Module):\n",
    "    def __init__:\n",
    "    def forward():\n",
    "        "
   ]
  },
  {
   "cell_type": "code",
   "execution_count": null,
   "id": "7ed1903b",
   "metadata": {
    "scrolled": true
   },
   "outputs": [],
   "source": [
    "test_files = [\"/home/h8lee/teams/DSC180A_FA21_A00/a11/test_mass_hbb/BulkGravitonToHHTo4Q_MX-600to6000_MH-15to250_part1_TuneCP5_13TeV-madgraph_pythia8/nano_mc2017_3-10_Skim.root\"]\n",
    "#delete old processed files\n",
    "dir_path = '/home/h8lee/DSC180B-A11-Project/test/'\n",
    "try:\n",
    "    shutil.rmtree(dir_path)\n",
    "except OSError as e:\n",
    "    print(\"Error: %s : %s\" % (dir_path, e.strerror))\n",
    "test_dataset = GraphDataset(dir_path, features, labels, spectators, n_events=2000, n_events_merge=1, \n",
    "                            file_names=test_files)\n",
    "\n",
    "test_loader = DataListLoader(test_dataset, batch_size=batch_size, pin_memory=True, shuffle=False)\n",
    "test_loader.collate_fn = collate\n",
    "test_samples = len(test_dataset)"
   ]
  },
  {
   "cell_type": "code",
   "execution_count": null,
   "id": "680977f0",
   "metadata": {},
   "outputs": [],
   "source": [
    "y_test = []\n",
    "y_predict = []\n",
    "t = tqdm(enumerate(test_loader), total=train_samples/batch_size, leave=bool(epoch==n_epochs-1))\n",
    "for i,data in t:\n",
    "    data = data.to(device)    \n",
    "    batch_output = net(data.x, data.batch)    \n",
    "    y_predict.append(batch_output.detach().cpu().numpy())\n",
    "    y_test.append(data.y.cpu().numpy())\n",
    "y_test = np.concatenate(y_test)\n",
    "y_predict = np.concatenate(y_predict)"
   ]
  },
  {
   "cell_type": "code",
   "execution_count": null,
   "id": "8753b37b",
   "metadata": {
    "scrolled": true
   },
   "outputs": [],
   "source": [
    "#rmse\n",
    "np.sqrt(np.mean((y_test - y_predict) ** 2))"
   ]
  },
  {
   "cell_type": "code",
   "execution_count": null,
   "id": "fae77fd0",
   "metadata": {
    "scrolled": true
   },
   "outputs": [],
   "source": []
  },
  {
   "cell_type": "code",
   "execution_count": null,
   "id": "9b7c0620",
   "metadata": {},
   "outputs": [],
   "source": []
  }
 ],
 "metadata": {
  "kernelspec": {
   "display_name": "Python 3",
   "language": "python",
   "name": "python3"
  },
  "language_info": {
   "codemirror_mode": {
    "name": "ipython",
    "version": 3
   },
   "file_extension": ".py",
   "mimetype": "text/x-python",
   "name": "python",
   "nbconvert_exporter": "python",
   "pygments_lexer": "ipython3",
   "version": "3.9.4"
  }
 },
 "nbformat": 4,
 "nbformat_minor": 5
}
